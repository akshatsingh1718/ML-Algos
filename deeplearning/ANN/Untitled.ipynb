{
 "cells": [
  {
   "cell_type": "code",
   "execution_count": 2,
   "metadata": {},
   "outputs": [],
   "source": [
    "import numpy as np\n",
    "import matplotlib.pyplot as plt\n",
    "import pandas as pd"
   ]
  },
  {
   "cell_type": "code",
   "execution_count": 3,
   "metadata": {},
   "outputs": [
    {
     "data": {
      "text/html": [
       "<div>\n",
       "<style scoped>\n",
       "    .dataframe tbody tr th:only-of-type {\n",
       "        vertical-align: middle;\n",
       "    }\n",
       "\n",
       "    .dataframe tbody tr th {\n",
       "        vertical-align: top;\n",
       "    }\n",
       "\n",
       "    .dataframe thead th {\n",
       "        text-align: right;\n",
       "    }\n",
       "</style>\n",
       "<table border=\"1\" class=\"dataframe\">\n",
       "  <thead>\n",
       "    <tr style=\"text-align: right;\">\n",
       "      <th></th>\n",
       "      <th>RowNumber</th>\n",
       "      <th>CustomerId</th>\n",
       "      <th>Surname</th>\n",
       "      <th>CreditScore</th>\n",
       "      <th>Geography</th>\n",
       "      <th>Gender</th>\n",
       "      <th>Age</th>\n",
       "      <th>Tenure</th>\n",
       "      <th>Balance</th>\n",
       "      <th>NumOfProducts</th>\n",
       "      <th>HasCrCard</th>\n",
       "      <th>IsActiveMember</th>\n",
       "      <th>EstimatedSalary</th>\n",
       "      <th>Exited</th>\n",
       "    </tr>\n",
       "  </thead>\n",
       "  <tbody>\n",
       "    <tr>\n",
       "      <th>0</th>\n",
       "      <td>1</td>\n",
       "      <td>15634602</td>\n",
       "      <td>Hargrave</td>\n",
       "      <td>619</td>\n",
       "      <td>France</td>\n",
       "      <td>Female</td>\n",
       "      <td>42</td>\n",
       "      <td>2</td>\n",
       "      <td>0.00</td>\n",
       "      <td>1</td>\n",
       "      <td>1</td>\n",
       "      <td>1</td>\n",
       "      <td>101348.88</td>\n",
       "      <td>1</td>\n",
       "    </tr>\n",
       "    <tr>\n",
       "      <th>1</th>\n",
       "      <td>2</td>\n",
       "      <td>15647311</td>\n",
       "      <td>Hill</td>\n",
       "      <td>608</td>\n",
       "      <td>Spain</td>\n",
       "      <td>Female</td>\n",
       "      <td>41</td>\n",
       "      <td>1</td>\n",
       "      <td>83807.86</td>\n",
       "      <td>1</td>\n",
       "      <td>0</td>\n",
       "      <td>1</td>\n",
       "      <td>112542.58</td>\n",
       "      <td>0</td>\n",
       "    </tr>\n",
       "    <tr>\n",
       "      <th>2</th>\n",
       "      <td>3</td>\n",
       "      <td>15619304</td>\n",
       "      <td>Onio</td>\n",
       "      <td>502</td>\n",
       "      <td>France</td>\n",
       "      <td>Female</td>\n",
       "      <td>42</td>\n",
       "      <td>8</td>\n",
       "      <td>159660.80</td>\n",
       "      <td>3</td>\n",
       "      <td>1</td>\n",
       "      <td>0</td>\n",
       "      <td>113931.57</td>\n",
       "      <td>1</td>\n",
       "    </tr>\n",
       "    <tr>\n",
       "      <th>3</th>\n",
       "      <td>4</td>\n",
       "      <td>15701354</td>\n",
       "      <td>Boni</td>\n",
       "      <td>699</td>\n",
       "      <td>France</td>\n",
       "      <td>Female</td>\n",
       "      <td>39</td>\n",
       "      <td>1</td>\n",
       "      <td>0.00</td>\n",
       "      <td>2</td>\n",
       "      <td>0</td>\n",
       "      <td>0</td>\n",
       "      <td>93826.63</td>\n",
       "      <td>0</td>\n",
       "    </tr>\n",
       "    <tr>\n",
       "      <th>4</th>\n",
       "      <td>5</td>\n",
       "      <td>15737888</td>\n",
       "      <td>Mitchell</td>\n",
       "      <td>850</td>\n",
       "      <td>Spain</td>\n",
       "      <td>Female</td>\n",
       "      <td>43</td>\n",
       "      <td>2</td>\n",
       "      <td>125510.82</td>\n",
       "      <td>1</td>\n",
       "      <td>1</td>\n",
       "      <td>1</td>\n",
       "      <td>79084.10</td>\n",
       "      <td>0</td>\n",
       "    </tr>\n",
       "  </tbody>\n",
       "</table>\n",
       "</div>"
      ],
      "text/plain": [
       "   RowNumber  CustomerId   Surname  CreditScore Geography  Gender  Age  \\\n",
       "0          1    15634602  Hargrave          619    France  Female   42   \n",
       "1          2    15647311      Hill          608     Spain  Female   41   \n",
       "2          3    15619304      Onio          502    France  Female   42   \n",
       "3          4    15701354      Boni          699    France  Female   39   \n",
       "4          5    15737888  Mitchell          850     Spain  Female   43   \n",
       "\n",
       "   Tenure    Balance  NumOfProducts  HasCrCard  IsActiveMember  \\\n",
       "0       2       0.00              1          1               1   \n",
       "1       1   83807.86              1          0               1   \n",
       "2       8  159660.80              3          1               0   \n",
       "3       1       0.00              2          0               0   \n",
       "4       2  125510.82              1          1               1   \n",
       "\n",
       "   EstimatedSalary  Exited  \n",
       "0        101348.88       1  \n",
       "1        112542.58       0  \n",
       "2        113931.57       1  \n",
       "3         93826.63       0  \n",
       "4         79084.10       0  "
      ]
     },
     "execution_count": 3,
     "metadata": {},
     "output_type": "execute_result"
    }
   ],
   "source": [
    "df = pd.read_csv('Churn_Modelling.csv')\n",
    "df.head()"
   ]
  },
  {
   "cell_type": "code",
   "execution_count": 4,
   "metadata": {},
   "outputs": [],
   "source": [
    "X = df.iloc[:, 3:13]\n",
    "y = df.iloc[:, 13]"
   ]
  },
  {
   "cell_type": "code",
   "execution_count": 5,
   "metadata": {},
   "outputs": [
    {
     "data": {
      "text/html": [
       "<div>\n",
       "<style scoped>\n",
       "    .dataframe tbody tr th:only-of-type {\n",
       "        vertical-align: middle;\n",
       "    }\n",
       "\n",
       "    .dataframe tbody tr th {\n",
       "        vertical-align: top;\n",
       "    }\n",
       "\n",
       "    .dataframe thead th {\n",
       "        text-align: right;\n",
       "    }\n",
       "</style>\n",
       "<table border=\"1\" class=\"dataframe\">\n",
       "  <thead>\n",
       "    <tr style=\"text-align: right;\">\n",
       "      <th></th>\n",
       "      <th>CreditScore</th>\n",
       "      <th>Geography</th>\n",
       "      <th>Gender</th>\n",
       "      <th>Age</th>\n",
       "      <th>Tenure</th>\n",
       "      <th>Balance</th>\n",
       "      <th>NumOfProducts</th>\n",
       "      <th>HasCrCard</th>\n",
       "      <th>IsActiveMember</th>\n",
       "      <th>EstimatedSalary</th>\n",
       "    </tr>\n",
       "  </thead>\n",
       "  <tbody>\n",
       "    <tr>\n",
       "      <th>0</th>\n",
       "      <td>619</td>\n",
       "      <td>France</td>\n",
       "      <td>Female</td>\n",
       "      <td>42</td>\n",
       "      <td>2</td>\n",
       "      <td>0.00</td>\n",
       "      <td>1</td>\n",
       "      <td>1</td>\n",
       "      <td>1</td>\n",
       "      <td>101348.88</td>\n",
       "    </tr>\n",
       "    <tr>\n",
       "      <th>1</th>\n",
       "      <td>608</td>\n",
       "      <td>Spain</td>\n",
       "      <td>Female</td>\n",
       "      <td>41</td>\n",
       "      <td>1</td>\n",
       "      <td>83807.86</td>\n",
       "      <td>1</td>\n",
       "      <td>0</td>\n",
       "      <td>1</td>\n",
       "      <td>112542.58</td>\n",
       "    </tr>\n",
       "    <tr>\n",
       "      <th>2</th>\n",
       "      <td>502</td>\n",
       "      <td>France</td>\n",
       "      <td>Female</td>\n",
       "      <td>42</td>\n",
       "      <td>8</td>\n",
       "      <td>159660.80</td>\n",
       "      <td>3</td>\n",
       "      <td>1</td>\n",
       "      <td>0</td>\n",
       "      <td>113931.57</td>\n",
       "    </tr>\n",
       "    <tr>\n",
       "      <th>3</th>\n",
       "      <td>699</td>\n",
       "      <td>France</td>\n",
       "      <td>Female</td>\n",
       "      <td>39</td>\n",
       "      <td>1</td>\n",
       "      <td>0.00</td>\n",
       "      <td>2</td>\n",
       "      <td>0</td>\n",
       "      <td>0</td>\n",
       "      <td>93826.63</td>\n",
       "    </tr>\n",
       "    <tr>\n",
       "      <th>4</th>\n",
       "      <td>850</td>\n",
       "      <td>Spain</td>\n",
       "      <td>Female</td>\n",
       "      <td>43</td>\n",
       "      <td>2</td>\n",
       "      <td>125510.82</td>\n",
       "      <td>1</td>\n",
       "      <td>1</td>\n",
       "      <td>1</td>\n",
       "      <td>79084.10</td>\n",
       "    </tr>\n",
       "  </tbody>\n",
       "</table>\n",
       "</div>"
      ],
      "text/plain": [
       "   CreditScore Geography  Gender  Age  Tenure    Balance  NumOfProducts  \\\n",
       "0          619    France  Female   42       2       0.00              1   \n",
       "1          608     Spain  Female   41       1   83807.86              1   \n",
       "2          502    France  Female   42       8  159660.80              3   \n",
       "3          699    France  Female   39       1       0.00              2   \n",
       "4          850     Spain  Female   43       2  125510.82              1   \n",
       "\n",
       "   HasCrCard  IsActiveMember  EstimatedSalary  \n",
       "0          1               1        101348.88  \n",
       "1          0               1        112542.58  \n",
       "2          1               0        113931.57  \n",
       "3          0               0         93826.63  \n",
       "4          1               1         79084.10  "
      ]
     },
     "execution_count": 5,
     "metadata": {},
     "output_type": "execute_result"
    }
   ],
   "source": [
    "X.head()"
   ]
  },
  {
   "cell_type": "code",
   "execution_count": 6,
   "metadata": {},
   "outputs": [
    {
     "data": {
      "text/plain": [
       "0    1\n",
       "1    0\n",
       "2    1\n",
       "3    0\n",
       "4    0\n",
       "Name: Exited, dtype: int64"
      ]
     },
     "execution_count": 6,
     "metadata": {},
     "output_type": "execute_result"
    }
   ],
   "source": [
    "y.head()"
   ]
  },
  {
   "cell_type": "code",
   "execution_count": 7,
   "metadata": {},
   "outputs": [],
   "source": [
    "# Create dummy variables\n",
    "geography = pd.get_dummies(X['Geography'], drop_first=True)\n",
    "gender = pd.get_dummies(X['Gender'], drop_first=True)"
   ]
  },
  {
   "cell_type": "code",
   "execution_count": 8,
   "metadata": {},
   "outputs": [],
   "source": [
    "X = pd.concat([X, geography, gender], axis=1)"
   ]
  },
  {
   "cell_type": "code",
   "execution_count": 9,
   "metadata": {},
   "outputs": [
    {
     "data": {
      "text/html": [
       "<div>\n",
       "<style scoped>\n",
       "    .dataframe tbody tr th:only-of-type {\n",
       "        vertical-align: middle;\n",
       "    }\n",
       "\n",
       "    .dataframe tbody tr th {\n",
       "        vertical-align: top;\n",
       "    }\n",
       "\n",
       "    .dataframe thead th {\n",
       "        text-align: right;\n",
       "    }\n",
       "</style>\n",
       "<table border=\"1\" class=\"dataframe\">\n",
       "  <thead>\n",
       "    <tr style=\"text-align: right;\">\n",
       "      <th></th>\n",
       "      <th>CreditScore</th>\n",
       "      <th>Age</th>\n",
       "      <th>Tenure</th>\n",
       "      <th>Balance</th>\n",
       "      <th>NumOfProducts</th>\n",
       "      <th>HasCrCard</th>\n",
       "      <th>IsActiveMember</th>\n",
       "      <th>EstimatedSalary</th>\n",
       "      <th>Germany</th>\n",
       "      <th>Spain</th>\n",
       "      <th>Male</th>\n",
       "    </tr>\n",
       "  </thead>\n",
       "  <tbody>\n",
       "    <tr>\n",
       "      <th>0</th>\n",
       "      <td>619</td>\n",
       "      <td>42</td>\n",
       "      <td>2</td>\n",
       "      <td>0.00</td>\n",
       "      <td>1</td>\n",
       "      <td>1</td>\n",
       "      <td>1</td>\n",
       "      <td>101348.88</td>\n",
       "      <td>0</td>\n",
       "      <td>0</td>\n",
       "      <td>0</td>\n",
       "    </tr>\n",
       "    <tr>\n",
       "      <th>1</th>\n",
       "      <td>608</td>\n",
       "      <td>41</td>\n",
       "      <td>1</td>\n",
       "      <td>83807.86</td>\n",
       "      <td>1</td>\n",
       "      <td>0</td>\n",
       "      <td>1</td>\n",
       "      <td>112542.58</td>\n",
       "      <td>0</td>\n",
       "      <td>1</td>\n",
       "      <td>0</td>\n",
       "    </tr>\n",
       "    <tr>\n",
       "      <th>2</th>\n",
       "      <td>502</td>\n",
       "      <td>42</td>\n",
       "      <td>8</td>\n",
       "      <td>159660.80</td>\n",
       "      <td>3</td>\n",
       "      <td>1</td>\n",
       "      <td>0</td>\n",
       "      <td>113931.57</td>\n",
       "      <td>0</td>\n",
       "      <td>0</td>\n",
       "      <td>0</td>\n",
       "    </tr>\n",
       "    <tr>\n",
       "      <th>3</th>\n",
       "      <td>699</td>\n",
       "      <td>39</td>\n",
       "      <td>1</td>\n",
       "      <td>0.00</td>\n",
       "      <td>2</td>\n",
       "      <td>0</td>\n",
       "      <td>0</td>\n",
       "      <td>93826.63</td>\n",
       "      <td>0</td>\n",
       "      <td>0</td>\n",
       "      <td>0</td>\n",
       "    </tr>\n",
       "    <tr>\n",
       "      <th>4</th>\n",
       "      <td>850</td>\n",
       "      <td>43</td>\n",
       "      <td>2</td>\n",
       "      <td>125510.82</td>\n",
       "      <td>1</td>\n",
       "      <td>1</td>\n",
       "      <td>1</td>\n",
       "      <td>79084.10</td>\n",
       "      <td>0</td>\n",
       "      <td>1</td>\n",
       "      <td>0</td>\n",
       "    </tr>\n",
       "  </tbody>\n",
       "</table>\n",
       "</div>"
      ],
      "text/plain": [
       "   CreditScore  Age  Tenure    Balance  NumOfProducts  HasCrCard  \\\n",
       "0          619   42       2       0.00              1          1   \n",
       "1          608   41       1   83807.86              1          0   \n",
       "2          502   42       8  159660.80              3          1   \n",
       "3          699   39       1       0.00              2          0   \n",
       "4          850   43       2  125510.82              1          1   \n",
       "\n",
       "   IsActiveMember  EstimatedSalary  Germany  Spain  Male  \n",
       "0               1        101348.88        0      0     0  \n",
       "1               1        112542.58        0      1     0  \n",
       "2               0        113931.57        0      0     0  \n",
       "3               0         93826.63        0      0     0  \n",
       "4               1         79084.10        0      1     0  "
      ]
     },
     "execution_count": 9,
     "metadata": {},
     "output_type": "execute_result"
    }
   ],
   "source": [
    "X = X.drop(['Geography', 'Gender'], axis=1)\n",
    "X.head()"
   ]
  },
  {
   "cell_type": "code",
   "execution_count": 10,
   "metadata": {},
   "outputs": [],
   "source": [
    "from sklearn.model_selection import train_test_split\n",
    "X_train, X_test, y_train, y_test = train_test_split(X, y, test_size=0.2, random_state=0)"
   ]
  },
  {
   "cell_type": "code",
   "execution_count": 11,
   "metadata": {},
   "outputs": [],
   "source": [
    "from sklearn.preprocessing import StandardScaler\n",
    "sc = StandardScaler()\n",
    "X_train = sc.fit_transform(X_train)\n",
    "X_test = sc.transform(X_test)"
   ]
  },
  {
   "cell_type": "code",
   "execution_count": 12,
   "metadata": {},
   "outputs": [
    {
     "data": {
      "text/plain": [
       "array([[ 0.16958176, -0.46460796,  0.00666099, ..., -0.5698444 ,\n",
       "         1.74309049, -1.09168714],\n",
       "       [-2.30455945,  0.30102557, -1.37744033, ...,  1.75486502,\n",
       "        -0.57369368,  0.91601335],\n",
       "       [-1.19119591, -0.94312892, -1.031415  , ..., -0.5698444 ,\n",
       "        -0.57369368, -1.09168714],\n",
       "       ...,\n",
       "       [ 0.9015152 , -0.36890377,  0.00666099, ..., -0.5698444 ,\n",
       "        -0.57369368,  0.91601335],\n",
       "       [-0.62420521, -0.08179119,  1.39076231, ..., -0.5698444 ,\n",
       "         1.74309049, -1.09168714],\n",
       "       [-0.28401079,  0.87525072, -1.37744033, ...,  1.75486502,\n",
       "        -0.57369368, -1.09168714]])"
      ]
     },
     "execution_count": 12,
     "metadata": {},
     "output_type": "execute_result"
    }
   ],
   "source": [
    "X_train"
   ]
  },
  {
   "cell_type": "code",
   "execution_count": 13,
   "metadata": {},
   "outputs": [
    {
     "data": {
      "text/plain": [
       "array([[-0.55204276, -0.36890377,  1.04473698, ...,  1.75486502,\n",
       "        -0.57369368, -1.09168714],\n",
       "       [-1.31490297,  0.10961719, -1.031415  , ..., -0.5698444 ,\n",
       "        -0.57369368, -1.09168714],\n",
       "       [ 0.57162971,  0.30102557,  1.04473698, ..., -0.5698444 ,\n",
       "         1.74309049, -1.09168714],\n",
       "       ...,\n",
       "       [-0.74791227, -0.27319958, -1.37744033, ..., -0.5698444 ,\n",
       "         1.74309049,  0.91601335],\n",
       "       [-0.00566991, -0.46460796, -0.33936434, ...,  1.75486502,\n",
       "        -0.57369368,  0.91601335],\n",
       "       [-0.79945688, -0.84742473,  1.04473698, ...,  1.75486502,\n",
       "        -0.57369368,  0.91601335]])"
      ]
     },
     "execution_count": 13,
     "metadata": {},
     "output_type": "execute_result"
    }
   ],
   "source": [
    "X_test"
   ]
  },
  {
   "cell_type": "code",
   "execution_count": 14,
   "metadata": {},
   "outputs": [],
   "source": [
    "import keras\n",
    "from keras.models import Sequential\n",
    "from keras.layers import Dense\n",
    "from keras.layers import LeakyReLU, PReLU, ELU\n",
    "from keras.layers import Dropout"
   ]
  },
  {
   "cell_type": "code",
   "execution_count": 15,
   "metadata": {},
   "outputs": [],
   "source": [
    "# Initlialising the ANN\n",
    "classifier = Sequential()"
   ]
  },
  {
   "cell_type": "code",
   "execution_count": 16,
   "metadata": {},
   "outputs": [],
   "source": [
    "# Adding the input layer and the first hidden layer\n",
    "# Because he_unitform works well with relu\n",
    "classifier.add(Dense(units=6, kernel_initializer='he_uniform', activation='relu', input_dim=11))"
   ]
  },
  {
   "cell_type": "code",
   "execution_count": 17,
   "metadata": {},
   "outputs": [],
   "source": [
    "# Adding the second hidden layer\n",
    "classifier.add(Dense(units=6, kernel_initializer='he_uniform', activation='relu'))"
   ]
  },
  {
   "cell_type": "code",
   "execution_count": 18,
   "metadata": {},
   "outputs": [],
   "source": [
    "# Adding the output layer\n",
    "classifier.add(Dense(units=1, kernel_initializer='glorot_uniform', activation='sigmoid'))"
   ]
  },
  {
   "cell_type": "code",
   "execution_count": 19,
   "metadata": {},
   "outputs": [],
   "source": [
    "# Complie the ANN\n",
    "classifier.compile(optimizer='adam', loss='binary_crossentropy', metrics=['accuracy'])"
   ]
  },
  {
   "cell_type": "code",
   "execution_count": 20,
   "metadata": {},
   "outputs": [
    {
     "name": "stdout",
     "output_type": "stream",
     "text": [
      "Model: \"sequential\"\n",
      "_________________________________________________________________\n",
      "Layer (type)                 Output Shape              Param #   \n",
      "=================================================================\n",
      "dense (Dense)                (None, 6)                 72        \n",
      "_________________________________________________________________\n",
      "dense_1 (Dense)              (None, 6)                 42        \n",
      "_________________________________________________________________\n",
      "dense_2 (Dense)              (None, 1)                 7         \n",
      "=================================================================\n",
      "Total params: 121\n",
      "Trainable params: 121\n",
      "Non-trainable params: 0\n",
      "_________________________________________________________________\n"
     ]
    }
   ],
   "source": [
    "classifier.summary()"
   ]
  },
  {
   "cell_type": "code",
   "execution_count": 21,
   "metadata": {},
   "outputs": [
    {
     "name": "stdout",
     "output_type": "stream",
     "text": [
      "Epoch 1/100\n",
      "536/536 [==============================] - 4s 7ms/step - loss: 0.5157 - accuracy: 0.7960 - val_loss: 0.4887 - val_accuracy: 0.7955\n",
      "Epoch 2/100\n",
      "536/536 [==============================] - 3s 6ms/step - loss: 0.4690 - accuracy: 0.7962 - val_loss: 0.4613 - val_accuracy: 0.7955\n",
      "Epoch 3/100\n",
      "536/536 [==============================] - 4s 7ms/step - loss: 0.4491 - accuracy: 0.7962 - val_loss: 0.4470 - val_accuracy: 0.7955\n",
      "Epoch 4/100\n",
      "536/536 [==============================] - 4s 7ms/step - loss: 0.4378 - accuracy: 0.7962 - val_loss: 0.4398 - val_accuracy: 0.7955\n",
      "Epoch 5/100\n",
      "536/536 [==============================] - 4s 7ms/step - loss: 0.4304 - accuracy: 0.7964 - val_loss: 0.4345 - val_accuracy: 0.7963\n",
      "Epoch 6/100\n",
      "536/536 [==============================] - 4s 7ms/step - loss: 0.4263 - accuracy: 0.7992 - val_loss: 0.4291 - val_accuracy: 0.7989\n",
      "Epoch 7/100\n",
      "536/536 [==============================] - 4s 7ms/step - loss: 0.4220 - accuracy: 0.8044 - val_loss: 0.4255 - val_accuracy: 0.8042\n",
      "Epoch 8/100\n",
      "536/536 [==============================] - 3s 6ms/step - loss: 0.4175 - accuracy: 0.8156 - val_loss: 0.4207 - val_accuracy: 0.8160\n",
      "Epoch 9/100\n",
      "536/536 [==============================] - 4s 8ms/step - loss: 0.4126 - accuracy: 0.8238 - val_loss: 0.4164 - val_accuracy: 0.8213\n",
      "Epoch 10/100\n",
      "536/536 [==============================] - 4s 7ms/step - loss: 0.4078 - accuracy: 0.8300 - val_loss: 0.4122 - val_accuracy: 0.8262\n",
      "Epoch 11/100\n",
      "536/536 [==============================] - 4s 8ms/step - loss: 0.4027 - accuracy: 0.8332 - val_loss: 0.4077 - val_accuracy: 0.8289\n",
      "Epoch 12/100\n",
      "536/536 [==============================] - 4s 8ms/step - loss: 0.3985 - accuracy: 0.8373 - val_loss: 0.4046 - val_accuracy: 0.8277\n",
      "Epoch 13/100\n",
      "536/536 [==============================] - 4s 8ms/step - loss: 0.3944 - accuracy: 0.8371 - val_loss: 0.4015 - val_accuracy: 0.8285\n",
      "Epoch 14/100\n",
      "536/536 [==============================] - 4s 8ms/step - loss: 0.3913 - accuracy: 0.8382 - val_loss: 0.4004 - val_accuracy: 0.8304\n",
      "Epoch 15/100\n",
      "536/536 [==============================] - 4s 7ms/step - loss: 0.3883 - accuracy: 0.8390 - val_loss: 0.3971 - val_accuracy: 0.8311\n",
      "Epoch 16/100\n",
      "536/536 [==============================] - 4s 8ms/step - loss: 0.3855 - accuracy: 0.8391 - val_loss: 0.3954 - val_accuracy: 0.8319\n",
      "Epoch 17/100\n",
      "536/536 [==============================] - 4s 8ms/step - loss: 0.3837 - accuracy: 0.8406 - val_loss: 0.3933 - val_accuracy: 0.8326\n",
      "Epoch 18/100\n",
      "536/536 [==============================] - 5s 9ms/step - loss: 0.3816 - accuracy: 0.8446 - val_loss: 0.3925 - val_accuracy: 0.8338\n",
      "Epoch 19/100\n",
      "536/536 [==============================] - 4s 8ms/step - loss: 0.3803 - accuracy: 0.8431 - val_loss: 0.3909 - val_accuracy: 0.8330\n",
      "Epoch 20/100\n",
      "536/536 [==============================] - 5s 9ms/step - loss: 0.3783 - accuracy: 0.8440 - val_loss: 0.3886 - val_accuracy: 0.8360\n",
      "Epoch 21/100\n",
      "536/536 [==============================] - 5s 9ms/step - loss: 0.3756 - accuracy: 0.8451 - val_loss: 0.3869 - val_accuracy: 0.8391\n",
      "Epoch 22/100\n",
      "536/536 [==============================] - 4s 7ms/step - loss: 0.3730 - accuracy: 0.8483 - val_loss: 0.3849 - val_accuracy: 0.8406\n",
      "Epoch 23/100\n",
      "536/536 [==============================] - 5s 9ms/step - loss: 0.3696 - accuracy: 0.8483 - val_loss: 0.3832 - val_accuracy: 0.8387\n",
      "Epoch 24/100\n",
      "536/536 [==============================] - 4s 7ms/step - loss: 0.3671 - accuracy: 0.8526 - val_loss: 0.3814 - val_accuracy: 0.8413\n",
      "Epoch 25/100\n",
      "536/536 [==============================] - 4s 7ms/step - loss: 0.3642 - accuracy: 0.8522 - val_loss: 0.3790 - val_accuracy: 0.8425\n",
      "Epoch 26/100\n",
      "536/536 [==============================] - 4s 8ms/step - loss: 0.3610 - accuracy: 0.8558 - val_loss: 0.3764 - val_accuracy: 0.8429\n",
      "Epoch 27/100\n",
      "536/536 [==============================] - 4s 8ms/step - loss: 0.3585 - accuracy: 0.8569 - val_loss: 0.3759 - val_accuracy: 0.8417\n",
      "Epoch 28/100\n",
      "536/536 [==============================] - 4s 7ms/step - loss: 0.3556 - accuracy: 0.8567 - val_loss: 0.3716 - val_accuracy: 0.8455\n",
      "Epoch 29/100\n",
      "536/536 [==============================] - 4s 8ms/step - loss: 0.3532 - accuracy: 0.8586 - val_loss: 0.3692 - val_accuracy: 0.8463\n",
      "Epoch 30/100\n",
      "536/536 [==============================] - 4s 8ms/step - loss: 0.3499 - accuracy: 0.8569 - val_loss: 0.3665 - val_accuracy: 0.8455\n",
      "Epoch 31/100\n",
      "536/536 [==============================] - 5s 9ms/step - loss: 0.3479 - accuracy: 0.8602 - val_loss: 0.3677 - val_accuracy: 0.8440\n",
      "Epoch 32/100\n",
      "536/536 [==============================] - 5s 9ms/step - loss: 0.3464 - accuracy: 0.8591 - val_loss: 0.3635 - val_accuracy: 0.8463\n",
      "Epoch 33/100\n",
      "536/536 [==============================] - 5s 8ms/step - loss: 0.3443 - accuracy: 0.8599 - val_loss: 0.3630 - val_accuracy: 0.8470\n",
      "Epoch 34/100\n",
      "536/536 [==============================] - 5s 9ms/step - loss: 0.3430 - accuracy: 0.8614 - val_loss: 0.3606 - val_accuracy: 0.8474\n",
      "Epoch 35/100\n",
      "536/536 [==============================] - 5s 9ms/step - loss: 0.3411 - accuracy: 0.8606 - val_loss: 0.3600 - val_accuracy: 0.8501\n",
      "Epoch 36/100\n",
      "536/536 [==============================] - 4s 8ms/step - loss: 0.3405 - accuracy: 0.8617 - val_loss: 0.3593 - val_accuracy: 0.8519\n",
      "Epoch 37/100\n",
      "536/536 [==============================] - 4s 8ms/step - loss: 0.3394 - accuracy: 0.8606 - val_loss: 0.3595 - val_accuracy: 0.8527\n",
      "Epoch 38/100\n",
      "536/536 [==============================] - 4s 8ms/step - loss: 0.3384 - accuracy: 0.8625 - val_loss: 0.3590 - val_accuracy: 0.8516\n",
      "Epoch 39/100\n",
      "536/536 [==============================] - 4s 8ms/step - loss: 0.3378 - accuracy: 0.8625 - val_loss: 0.3583 - val_accuracy: 0.8512\n",
      "Epoch 40/100\n",
      "536/536 [==============================] - 5s 10ms/step - loss: 0.3376 - accuracy: 0.8630 - val_loss: 0.3596 - val_accuracy: 0.8497\n",
      "Epoch 41/100\n",
      "536/536 [==============================] - 4s 8ms/step - loss: 0.3366 - accuracy: 0.8612 - val_loss: 0.3591 - val_accuracy: 0.8508\n",
      "Epoch 42/100\n",
      "536/536 [==============================] - 5s 10ms/step - loss: 0.3364 - accuracy: 0.8632 - val_loss: 0.3604 - val_accuracy: 0.8497\n",
      "Epoch 43/100\n",
      "536/536 [==============================] - 5s 9ms/step - loss: 0.3365 - accuracy: 0.8619 - val_loss: 0.3594 - val_accuracy: 0.8504\n",
      "Epoch 44/100\n",
      "536/536 [==============================] - 5s 10ms/step - loss: 0.3360 - accuracy: 0.8625 - val_loss: 0.3591 - val_accuracy: 0.8512\n",
      "Epoch 45/100\n",
      "536/536 [==============================] - 5s 10ms/step - loss: 0.3353 - accuracy: 0.8617 - val_loss: 0.3591 - val_accuracy: 0.8519\n",
      "Epoch 46/100\n",
      "536/536 [==============================] - 5s 9ms/step - loss: 0.3355 - accuracy: 0.8628 - val_loss: 0.3600 - val_accuracy: 0.8531\n",
      "Epoch 47/100\n",
      "536/536 [==============================] - 4s 8ms/step - loss: 0.3350 - accuracy: 0.8619 - val_loss: 0.3581 - val_accuracy: 0.8508\n",
      "Epoch 48/100\n",
      "536/536 [==============================] - 4s 8ms/step - loss: 0.3349 - accuracy: 0.8617 - val_loss: 0.3571 - val_accuracy: 0.8504\n",
      "Epoch 49/100\n",
      "536/536 [==============================] - 5s 10ms/step - loss: 0.3353 - accuracy: 0.8621 - val_loss: 0.3582 - val_accuracy: 0.8501\n",
      "Epoch 50/100\n",
      "536/536 [==============================] - 4s 7ms/step - loss: 0.3349 - accuracy: 0.8628 - val_loss: 0.3580 - val_accuracy: 0.8497\n",
      "Epoch 51/100\n",
      "536/536 [==============================] - 4s 8ms/step - loss: 0.3347 - accuracy: 0.8634 - val_loss: 0.3569 - val_accuracy: 0.8497\n",
      "Epoch 52/100\n",
      "536/536 [==============================] - 5s 10ms/step - loss: 0.3347 - accuracy: 0.8625 - val_loss: 0.3571 - val_accuracy: 0.8527\n",
      "Epoch 53/100\n",
      "536/536 [==============================] - 4s 8ms/step - loss: 0.3343 - accuracy: 0.8615 - val_loss: 0.3566 - val_accuracy: 0.8497\n",
      "Epoch 54/100\n",
      "536/536 [==============================] - 5s 9ms/step - loss: 0.3344 - accuracy: 0.8625 - val_loss: 0.3569 - val_accuracy: 0.8542\n",
      "Epoch 55/100\n",
      "536/536 [==============================] - 5s 9ms/step - loss: 0.3342 - accuracy: 0.8662 - val_loss: 0.3576 - val_accuracy: 0.8516\n",
      "Epoch 56/100\n",
      "536/536 [==============================] - 6s 10ms/step - loss: 0.3342 - accuracy: 0.8610 - val_loss: 0.3558 - val_accuracy: 0.8531\n",
      "Epoch 57/100\n",
      "536/536 [==============================] - 6s 10ms/step - loss: 0.3339 - accuracy: 0.8625 - val_loss: 0.3569 - val_accuracy: 0.8508\n"
     ]
    },
    {
     "name": "stdout",
     "output_type": "stream",
     "text": [
      "Epoch 58/100\n",
      "536/536 [==============================] - 4s 8ms/step - loss: 0.3342 - accuracy: 0.8612 - val_loss: 0.3559 - val_accuracy: 0.8523\n",
      "Epoch 59/100\n",
      "536/536 [==============================] - 4s 7ms/step - loss: 0.3334 - accuracy: 0.8645 - val_loss: 0.3557 - val_accuracy: 0.8504\n",
      "Epoch 60/100\n",
      "536/536 [==============================] - 3s 6ms/step - loss: 0.3342 - accuracy: 0.8628 - val_loss: 0.3562 - val_accuracy: 0.8508\n",
      "Epoch 61/100\n",
      "536/536 [==============================] - 4s 7ms/step - loss: 0.3341 - accuracy: 0.8630 - val_loss: 0.3569 - val_accuracy: 0.8531\n",
      "Epoch 62/100\n",
      "536/536 [==============================] - 4s 7ms/step - loss: 0.3334 - accuracy: 0.8621 - val_loss: 0.3582 - val_accuracy: 0.8504\n",
      "Epoch 63/100\n",
      "536/536 [==============================] - 3s 6ms/step - loss: 0.3338 - accuracy: 0.8627 - val_loss: 0.3568 - val_accuracy: 0.8527\n",
      "Epoch 64/100\n",
      "536/536 [==============================] - 4s 7ms/step - loss: 0.3333 - accuracy: 0.8615 - val_loss: 0.3591 - val_accuracy: 0.8516\n",
      "Epoch 65/100\n",
      "536/536 [==============================] - 4s 7ms/step - loss: 0.3335 - accuracy: 0.8643 - val_loss: 0.3565 - val_accuracy: 0.8504\n",
      "Epoch 66/100\n",
      "536/536 [==============================] - 4s 8ms/step - loss: 0.3327 - accuracy: 0.8614 - val_loss: 0.3567 - val_accuracy: 0.8508\n",
      "Epoch 67/100\n",
      "536/536 [==============================] - 5s 9ms/step - loss: 0.3333 - accuracy: 0.8634 - val_loss: 0.3550 - val_accuracy: 0.8519\n",
      "Epoch 68/100\n",
      "536/536 [==============================] - 9s 17ms/step - loss: 0.3332 - accuracy: 0.8634 - val_loss: 0.3550 - val_accuracy: 0.8504\n",
      "Epoch 69/100\n",
      "536/536 [==============================] - 8s 15ms/step - loss: 0.3327 - accuracy: 0.8627 - val_loss: 0.3559 - val_accuracy: 0.8531\n",
      "Epoch 70/100\n",
      "536/536 [==============================] - 8s 15ms/step - loss: 0.3334 - accuracy: 0.8627 - val_loss: 0.3541 - val_accuracy: 0.8546\n",
      "Epoch 71/100\n",
      "536/536 [==============================] - 8s 16ms/step - loss: 0.3326 - accuracy: 0.8600 - val_loss: 0.3538 - val_accuracy: 0.8527\n",
      "Epoch 72/100\n",
      "536/536 [==============================] - 9s 17ms/step - loss: 0.3332 - accuracy: 0.8619 - val_loss: 0.3563 - val_accuracy: 0.8523\n",
      "Epoch 73/100\n",
      "536/536 [==============================] - 7s 13ms/step - loss: 0.3332 - accuracy: 0.8593 - val_loss: 0.3549 - val_accuracy: 0.8519\n",
      "Epoch 74/100\n",
      "536/536 [==============================] - 6s 11ms/step - loss: 0.3327 - accuracy: 0.8634 - val_loss: 0.3544 - val_accuracy: 0.8508\n",
      "Epoch 75/100\n",
      "536/536 [==============================] - 4s 8ms/step - loss: 0.3324 - accuracy: 0.8636 - val_loss: 0.3575 - val_accuracy: 0.8516\n",
      "Epoch 76/100\n",
      "536/536 [==============================] - 4s 8ms/step - loss: 0.3325 - accuracy: 0.8630 - val_loss: 0.3572 - val_accuracy: 0.8508\n",
      "Epoch 77/100\n",
      "536/536 [==============================] - 5s 9ms/step - loss: 0.3322 - accuracy: 0.8617 - val_loss: 0.3555 - val_accuracy: 0.8504\n",
      "Epoch 78/100\n",
      "536/536 [==============================] - 4s 8ms/step - loss: 0.3324 - accuracy: 0.8617 - val_loss: 0.3538 - val_accuracy: 0.8497\n",
      "Epoch 79/100\n",
      "536/536 [==============================] - 5s 10ms/step - loss: 0.3323 - accuracy: 0.8638 - val_loss: 0.3532 - val_accuracy: 0.8527\n",
      "Epoch 80/100\n",
      "536/536 [==============================] - 10s 18ms/step - loss: 0.3325 - accuracy: 0.8634 - val_loss: 0.3541 - val_accuracy: 0.8523\n",
      "Epoch 81/100\n",
      "536/536 [==============================] - 9s 17ms/step - loss: 0.3326 - accuracy: 0.8614 - val_loss: 0.3544 - val_accuracy: 0.8508\n",
      "Epoch 82/100\n",
      "536/536 [==============================] - 8s 15ms/step - loss: 0.3320 - accuracy: 0.8615 - val_loss: 0.3550 - val_accuracy: 0.8516\n",
      "Epoch 83/100\n",
      "536/536 [==============================] - 9s 17ms/step - loss: 0.3318 - accuracy: 0.8614 - val_loss: 0.3539 - val_accuracy: 0.8527\n",
      "Epoch 84/100\n",
      "536/536 [==============================] - 9s 17ms/step - loss: 0.3321 - accuracy: 0.8619 - val_loss: 0.3533 - val_accuracy: 0.8501\n",
      "Epoch 85/100\n",
      "536/536 [==============================] - 10s 18ms/step - loss: 0.3317 - accuracy: 0.8623 - val_loss: 0.3544 - val_accuracy: 0.8504\n",
      "Epoch 86/100\n",
      "536/536 [==============================] - 8s 14ms/step - loss: 0.3321 - accuracy: 0.8619 - val_loss: 0.3543 - val_accuracy: 0.8516\n",
      "Epoch 87/100\n",
      "536/536 [==============================] - 5s 10ms/step - loss: 0.3320 - accuracy: 0.8625 - val_loss: 0.3540 - val_accuracy: 0.8512\n",
      "Epoch 88/100\n",
      "536/536 [==============================] - 5s 9ms/step - loss: 0.3323 - accuracy: 0.8619 - val_loss: 0.3549 - val_accuracy: 0.8508\n",
      "Epoch 89/100\n",
      "536/536 [==============================] - 4s 8ms/step - loss: 0.3316 - accuracy: 0.8630 - val_loss: 0.3545 - val_accuracy: 0.8519\n",
      "Epoch 90/100\n",
      "536/536 [==============================] - 4s 8ms/step - loss: 0.3313 - accuracy: 0.8638 - val_loss: 0.3554 - val_accuracy: 0.8527\n",
      "Epoch 91/100\n",
      "536/536 [==============================] - 5s 9ms/step - loss: 0.3320 - accuracy: 0.8610 - val_loss: 0.3530 - val_accuracy: 0.8531\n",
      "Epoch 92/100\n",
      "536/536 [==============================] - 4s 8ms/step - loss: 0.3317 - accuracy: 0.8625 - val_loss: 0.3561 - val_accuracy: 0.8546\n",
      "Epoch 93/100\n",
      "536/536 [==============================] - 5s 10ms/step - loss: 0.3313 - accuracy: 0.8602 - val_loss: 0.3539 - val_accuracy: 0.8504\n",
      "Epoch 94/100\n",
      "536/536 [==============================] - 5s 9ms/step - loss: 0.3318 - accuracy: 0.8638 - val_loss: 0.3551 - val_accuracy: 0.8485\n",
      "Epoch 95/100\n",
      "536/536 [==============================] - 5s 9ms/step - loss: 0.3319 - accuracy: 0.8608 - val_loss: 0.3533 - val_accuracy: 0.8519\n",
      "Epoch 96/100\n",
      "536/536 [==============================] - 4s 7ms/step - loss: 0.3320 - accuracy: 0.8630 - val_loss: 0.3527 - val_accuracy: 0.8512\n",
      "Epoch 97/100\n",
      "536/536 [==============================] - 5s 9ms/step - loss: 0.3308 - accuracy: 0.8606 - val_loss: 0.3516 - val_accuracy: 0.8531\n",
      "Epoch 98/100\n",
      "536/536 [==============================] - 5s 9ms/step - loss: 0.3314 - accuracy: 0.8621 - val_loss: 0.3521 - val_accuracy: 0.8550\n",
      "Epoch 99/100\n",
      "536/536 [==============================] - 4s 8ms/step - loss: 0.3317 - accuracy: 0.8617 - val_loss: 0.3546 - val_accuracy: 0.8504\n",
      "Epoch 100/100\n",
      "536/536 [==============================] - 5s 9ms/step - loss: 0.3321 - accuracy: 0.8617 - val_loss: 0.3523 - val_accuracy: 0.8512\n"
     ]
    }
   ],
   "source": [
    "# Fitting the ANN to the Training set\n",
    "model_history = classifier.fit(X_train, y_train, validation_split=0.33, batch_size=10, epochs=100)"
   ]
  },
  {
   "cell_type": "code",
   "execution_count": 22,
   "metadata": {},
   "outputs": [
    {
     "data": {
      "text/plain": [
       "False"
      ]
     },
     "execution_count": 22,
     "metadata": {},
     "output_type": "execute_result"
    }
   ],
   "source": [
    "df.isnull().values.any()"
   ]
  },
  {
   "cell_type": "code",
   "execution_count": 23,
   "metadata": {
    "scrolled": true
   },
   "outputs": [
    {
     "data": {
      "text/plain": [
       "RowNumber          0\n",
       "CustomerId         0\n",
       "Surname            0\n",
       "CreditScore        0\n",
       "Geography          0\n",
       "Gender             0\n",
       "Age                0\n",
       "Tenure             0\n",
       "Balance            0\n",
       "NumOfProducts      0\n",
       "HasCrCard          0\n",
       "IsActiveMember     0\n",
       "EstimatedSalary    0\n",
       "Exited             0\n",
       "dtype: int64"
      ]
     },
     "execution_count": 23,
     "metadata": {},
     "output_type": "execute_result"
    }
   ],
   "source": [
    "df.isnull().sum()"
   ]
  },
  {
   "cell_type": "code",
   "execution_count": 27,
   "metadata": {},
   "outputs": [
    {
     "data": {
      "text/plain": [
       "<tensorflow.python.keras.callbacks.History at 0x7f89bc4eb7f0>"
      ]
     },
     "execution_count": 27,
     "metadata": {},
     "output_type": "execute_result"
    }
   ],
   "source": [
    "model_history"
   ]
  },
  {
   "cell_type": "code",
   "execution_count": 29,
   "metadata": {},
   "outputs": [
    {
     "data": {
      "text/plain": [
       "dict_keys(['loss', 'accuracy', 'val_loss', 'val_accuracy'])"
      ]
     },
     "execution_count": 29,
     "metadata": {},
     "output_type": "execute_result"
    }
   ],
   "source": [
    "model_history.history.keys()"
   ]
  },
  {
   "cell_type": "code",
   "execution_count": 34,
   "metadata": {},
   "outputs": [
    {
     "data": {
      "image/png": "[encoded data removed]",
      "text/plain": [
       "<Figure size 432x288 with 1 Axes>"
      ]
     },
     "metadata": {
      "needs_background": "light"
     },
     "output_type": "display_data"
    }
   ],
   "source": [
    "plt.plot(model_history.history['accuracy'])\n",
    "plt.plot(model_history.history['val_accuracy'])\n",
    "plt.title('model accuracy')\n",
    "plt.ylabel('accuracy')\n",
    "plt.xlabel('epoch')\n",
    "plt.legend(['train', 'test'], loc='upper left')\n",
    "plt.show()"
   ]
  },
  {
   "cell_type": "markdown",
   "metadata": {},
   "source": [
    "#### Part 3 - Making the predictions and evaluating the model"
   ]
  },
  {
   "cell_type": "code",
   "execution_count": 35,
   "metadata": {},
   "outputs": [
    {
     "data": {
      "text/plain": [
       "array([[0.31341088],\n",
       "       [0.24538592],\n",
       "       [0.11441392],\n",
       "       ...,\n",
       "       [0.37996018],\n",
       "       [0.16375852],\n",
       "       [0.19293171]], dtype=float32)"
      ]
     },
     "execution_count": 35,
     "metadata": {},
     "output_type": "execute_result"
    }
   ],
   "source": [
    "# Predicting the Test Set results\n",
    "y_pred = classifier.predict(X_test)\n",
    "y_pred"
   ]
  },
  {
   "cell_type": "code",
   "execution_count": 36,
   "metadata": {},
   "outputs": [
    {
     "data": {
      "text/plain": [
       "2000"
      ]
     },
     "execution_count": 36,
     "metadata": {},
     "output_type": "execute_result"
    }
   ],
   "source": [
    "len(y_pred)"
   ]
  },
  {
   "cell_type": "code",
   "execution_count": 37,
   "metadata": {},
   "outputs": [
    {
     "data": {
      "text/plain": [
       "array([[False],\n",
       "       [False],\n",
       "       [False],\n",
       "       ...,\n",
       "       [False],\n",
       "       [False],\n",
       "       [False]])"
      ]
     },
     "execution_count": 37,
     "metadata": {},
     "output_type": "execute_result"
    }
   ],
   "source": [
    "y_pred = (y_pred > 0.5)\n",
    "y_pred"
   ]
  },
  {
   "cell_type": "code",
   "execution_count": 39,
   "metadata": {},
   "outputs": [
    {
     "data": {
      "text/plain": [
       "array([[1509,   86],\n",
       "       [ 203,  202]])"
      ]
     },
     "execution_count": 39,
     "metadata": {},
     "output_type": "execute_result"
    }
   ],
   "source": [
    "from sklearn.metrics import confusion_matrix\n",
    "cm = confusion_matrix(y_test, y_pred)\n",
    "cm"
   ]
  },
  {
   "cell_type": "code",
   "execution_count": 41,
   "metadata": {},
   "outputs": [
    {
     "data": {
      "text/plain": [
       "Text(15.0, 0.5, 'Truth')"
      ]
     },
     "execution_count": 41,
     "metadata": {},
     "output_type": "execute_result"
    },
    {
     "data": {
      "image/png": "[encoded data removed]",
      "text/plain": [
       "<Figure size 288x288 with 2 Axes>"
      ]
     },
     "metadata": {
      "needs_background": "light"
     },
     "output_type": "display_data"
    }
   ],
   "source": [
    "import seaborn as sb\n",
    "plt.figure(figsize=(4,4))\n",
    "sb.heatmap(cm, annot=True)\n",
    "plt.xlabel('predicted')\n",
    "plt.ylabel('Truth')"
   ]
  },
  {
   "cell_type": "code",
   "execution_count": 46,
   "metadata": {},
   "outputs": [
    {
     "data": {
      "text/plain": [
       "0.8555"
      ]
     },
     "execution_count": 46,
     "metadata": {},
     "output_type": "execute_result"
    }
   ],
   "source": [
    "from sklearn.metrics import accuracy_score\n",
    "score = accuracy_score(y_pred, y_test)\n",
    "score"
   ]
  },
  {
   "cell_type": "code",
   "execution_count": 50,
   "metadata": {},
   "outputs": [],
   "source": [
    "new_classifier = Sequential()\n",
    "\n",
    "# 1st hidden layer\n",
    "new_classifier.add(Dense(units = 10, kernel_initializer='he_normal', activation='relu', input_dim=11))\n",
    "\n",
    "# 2st hidden layer\n",
    "new_classifier.add(Dense(units=20, kernel_initializer='he_normal', activation='relu'))\n",
    "\n",
    "# 3st hidden layer\n",
    "new_classifier.add(Dense(units=15, kernel_initializer='he_normal', activation='relu'))\n",
    "\n",
    "# Adding output layer\n",
    "new_classifier.add(Dense(units=1, kernel_initializer='glorot_uniform', activation='sigmoid'))\n",
    "\n",
    "# Compiling the ANN\n",
    "new_classifier.compile(optimizer='adam', loss='binary_crossentropy', metrics=['accuracy'])"
   ]
  },
  {
   "cell_type": "code",
   "execution_count": 51,
   "metadata": {
    "scrolled": true
   },
   "outputs": [
    {
     "name": "stdout",
     "output_type": "stream",
     "text": [
      "Epoch 1/100\n",
      "536/536 [==============================] - 5s 9ms/step - loss: 0.4798 - accuracy: 0.7918 - val_loss: 0.4489 - val_accuracy: 0.8012\n",
      "Epoch 2/100\n",
      "536/536 [==============================] - 4s 7ms/step - loss: 0.4396 - accuracy: 0.8031 - val_loss: 0.4386 - val_accuracy: 0.8058\n",
      "Epoch 3/100\n",
      "536/536 [==============================] - 4s 8ms/step - loss: 0.4243 - accuracy: 0.8141 - val_loss: 0.4286 - val_accuracy: 0.8076\n",
      "Epoch 4/100\n",
      "536/536 [==============================] - 4s 8ms/step - loss: 0.4062 - accuracy: 0.8263 - val_loss: 0.4075 - val_accuracy: 0.8217\n",
      "Epoch 5/100\n",
      "536/536 [==============================] - 4s 8ms/step - loss: 0.3819 - accuracy: 0.8405 - val_loss: 0.3921 - val_accuracy: 0.8315\n",
      "Epoch 6/100\n",
      "536/536 [==============================] - 5s 9ms/step - loss: 0.3644 - accuracy: 0.8475 - val_loss: 0.3810 - val_accuracy: 0.8406\n",
      "Epoch 7/100\n",
      "536/536 [==============================] - 4s 7ms/step - loss: 0.3547 - accuracy: 0.8524 - val_loss: 0.3757 - val_accuracy: 0.8402\n",
      "Epoch 8/100\n",
      "536/536 [==============================] - 4s 8ms/step - loss: 0.3485 - accuracy: 0.8595 - val_loss: 0.3711 - val_accuracy: 0.8425\n",
      "Epoch 9/100\n",
      "536/536 [==============================] - 5s 9ms/step - loss: 0.3430 - accuracy: 0.8597 - val_loss: 0.3721 - val_accuracy: 0.8455\n",
      "Epoch 10/100\n",
      "536/536 [==============================] - 4s 8ms/step - loss: 0.3397 - accuracy: 0.8574 - val_loss: 0.3675 - val_accuracy: 0.8417\n",
      "Epoch 11/100\n",
      "536/536 [==============================] - 4s 8ms/step - loss: 0.3356 - accuracy: 0.8606 - val_loss: 0.3632 - val_accuracy: 0.8474\n",
      "Epoch 12/100\n",
      "536/536 [==============================] - 4s 8ms/step - loss: 0.3330 - accuracy: 0.8625 - val_loss: 0.3628 - val_accuracy: 0.8482\n",
      "Epoch 13/100\n",
      "536/536 [==============================] - 5s 9ms/step - loss: 0.3320 - accuracy: 0.8617 - val_loss: 0.3658 - val_accuracy: 0.8444\n",
      "Epoch 14/100\n",
      "536/536 [==============================] - 5s 9ms/step - loss: 0.3299 - accuracy: 0.8597 - val_loss: 0.3600 - val_accuracy: 0.8474\n",
      "Epoch 15/100\n",
      "536/536 [==============================] - 5s 9ms/step - loss: 0.3275 - accuracy: 0.8645 - val_loss: 0.3634 - val_accuracy: 0.8497\n",
      "Epoch 16/100\n",
      "536/536 [==============================] - 5s 10ms/step - loss: 0.3275 - accuracy: 0.8612 - val_loss: 0.3574 - val_accuracy: 0.8516\n",
      "Epoch 17/100\n",
      "536/536 [==============================] - 5s 10ms/step - loss: 0.3258 - accuracy: 0.8638 - val_loss: 0.3595 - val_accuracy: 0.8512\n",
      "Epoch 18/100\n",
      "536/536 [==============================] - 7s 12ms/step - loss: 0.3242 - accuracy: 0.8671 - val_loss: 0.3603 - val_accuracy: 0.8550\n",
      "Epoch 19/100\n",
      "536/536 [==============================] - 4s 7ms/step - loss: 0.3224 - accuracy: 0.8636 - val_loss: 0.3609 - val_accuracy: 0.8531\n",
      "Epoch 20/100\n",
      "536/536 [==============================] - 3s 5ms/step - loss: 0.3224 - accuracy: 0.8638 - val_loss: 0.3620 - val_accuracy: 0.8527\n",
      "Epoch 21/100\n",
      "536/536 [==============================] - 6s 11ms/step - loss: 0.3214 - accuracy: 0.8664 - val_loss: 0.3575 - val_accuracy: 0.8561\n",
      "Epoch 22/100\n",
      "536/536 [==============================] - 10s 18ms/step - loss: 0.3195 - accuracy: 0.8656 - val_loss: 0.3608 - val_accuracy: 0.8531\n",
      "Epoch 23/100\n",
      "536/536 [==============================] - 10s 20ms/step - loss: 0.3202 - accuracy: 0.8705 - val_loss: 0.3619 - val_accuracy: 0.8523\n",
      "Epoch 24/100\n",
      "536/536 [==============================] - 11s 20ms/step - loss: 0.3183 - accuracy: 0.8664 - val_loss: 0.3607 - val_accuracy: 0.8519\n",
      "Epoch 25/100\n",
      "536/536 [==============================] - 10s 18ms/step - loss: 0.3186 - accuracy: 0.8660 - val_loss: 0.3612 - val_accuracy: 0.8504\n",
      "Epoch 26/100\n",
      "536/536 [==============================] - 11s 21ms/step - loss: 0.3166 - accuracy: 0.8666 - val_loss: 0.3625 - val_accuracy: 0.8493\n",
      "Epoch 27/100\n",
      "536/536 [==============================] - 6s 12ms/step - loss: 0.3169 - accuracy: 0.8683 - val_loss: 0.3607 - val_accuracy: 0.8482\n",
      "Epoch 28/100\n",
      "536/536 [==============================] - 6s 11ms/step - loss: 0.3149 - accuracy: 0.8640 - val_loss: 0.3640 - val_accuracy: 0.8501\n",
      "Epoch 29/100\n",
      "536/536 [==============================] - 6s 12ms/step - loss: 0.3154 - accuracy: 0.8668 - val_loss: 0.3610 - val_accuracy: 0.8531\n",
      "Epoch 30/100\n",
      "536/536 [==============================] - 6s 11ms/step - loss: 0.3132 - accuracy: 0.8690 - val_loss: 0.3630 - val_accuracy: 0.8516\n",
      "Epoch 31/100\n",
      "536/536 [==============================] - 5s 9ms/step - loss: 0.3139 - accuracy: 0.8677 - val_loss: 0.3648 - val_accuracy: 0.8501\n",
      "Epoch 32/100\n",
      "536/536 [==============================] - 7s 13ms/step - loss: 0.3124 - accuracy: 0.8675 - val_loss: 0.3688 - val_accuracy: 0.8504\n",
      "Epoch 33/100\n",
      "536/536 [==============================] - 7s 13ms/step - loss: 0.3131 - accuracy: 0.8660 - val_loss: 0.3641 - val_accuracy: 0.8527\n",
      "Epoch 34/100\n",
      "536/536 [==============================] - 5s 10ms/step - loss: 0.3121 - accuracy: 0.8683 - val_loss: 0.3609 - val_accuracy: 0.8527\n",
      "Epoch 35/100\n",
      "536/536 [==============================] - 6s 11ms/step - loss: 0.3128 - accuracy: 0.8698 - val_loss: 0.3628 - val_accuracy: 0.8470\n",
      "Epoch 36/100\n",
      "536/536 [==============================] - 5s 9ms/step - loss: 0.3106 - accuracy: 0.8698 - val_loss: 0.3642 - val_accuracy: 0.8485\n",
      "Epoch 37/100\n",
      "536/536 [==============================] - 6s 11ms/step - loss: 0.3105 - accuracy: 0.8677 - val_loss: 0.3622 - val_accuracy: 0.8478\n",
      "Epoch 38/100\n",
      "536/536 [==============================] - 6s 11ms/step - loss: 0.3109 - accuracy: 0.8714 - val_loss: 0.3667 - val_accuracy: 0.8444\n",
      "Epoch 39/100\n",
      "536/536 [==============================] - 6s 11ms/step - loss: 0.3089 - accuracy: 0.8684 - val_loss: 0.3635 - val_accuracy: 0.8542\n",
      "Epoch 40/100\n",
      "536/536 [==============================] - 5s 10ms/step - loss: 0.3100 - accuracy: 0.8671 - val_loss: 0.3619 - val_accuracy: 0.8535\n",
      "Epoch 41/100\n",
      "536/536 [==============================] - 5s 10ms/step - loss: 0.3087 - accuracy: 0.8694 - val_loss: 0.3624 - val_accuracy: 0.8516\n",
      "Epoch 42/100\n",
      "536/536 [==============================] - 6s 11ms/step - loss: 0.3071 - accuracy: 0.8711 - val_loss: 0.3642 - val_accuracy: 0.8527\n",
      "Epoch 43/100\n",
      "536/536 [==============================] - 6s 10ms/step - loss: 0.3087 - accuracy: 0.8705 - val_loss: 0.3643 - val_accuracy: 0.8508\n",
      "Epoch 44/100\n",
      "536/536 [==============================] - 5s 10ms/step - loss: 0.3082 - accuracy: 0.8692 - val_loss: 0.3633 - val_accuracy: 0.8508\n",
      "Epoch 45/100\n",
      "536/536 [==============================] - 5s 10ms/step - loss: 0.3066 - accuracy: 0.8670 - val_loss: 0.3735 - val_accuracy: 0.8429\n",
      "Epoch 46/100\n",
      "536/536 [==============================] - 5s 9ms/step - loss: 0.3074 - accuracy: 0.8692 - val_loss: 0.3661 - val_accuracy: 0.8463\n",
      "Epoch 47/100\n",
      "536/536 [==============================] - 5s 9ms/step - loss: 0.3066 - accuracy: 0.8712 - val_loss: 0.3654 - val_accuracy: 0.8512\n",
      "Epoch 48/100\n",
      "536/536 [==============================] - 5s 9ms/step - loss: 0.3063 - accuracy: 0.8698 - val_loss: 0.3709 - val_accuracy: 0.8455\n",
      "Epoch 49/100\n",
      "536/536 [==============================] - 6s 11ms/step - loss: 0.3047 - accuracy: 0.8729 - val_loss: 0.3637 - val_accuracy: 0.8497\n",
      "Epoch 50/100\n",
      "536/536 [==============================] - 6s 11ms/step - loss: 0.3038 - accuracy: 0.8712 - val_loss: 0.3668 - val_accuracy: 0.8489\n",
      "Epoch 51/100\n",
      "536/536 [==============================] - 5s 10ms/step - loss: 0.3046 - accuracy: 0.8720 - val_loss: 0.3626 - val_accuracy: 0.8501\n",
      "Epoch 52/100\n",
      "536/536 [==============================] - 6s 11ms/step - loss: 0.3035 - accuracy: 0.8731 - val_loss: 0.3637 - val_accuracy: 0.8535\n",
      "Epoch 53/100\n",
      "536/536 [==============================] - 6s 12ms/step - loss: 0.3049 - accuracy: 0.8709 - val_loss: 0.3642 - val_accuracy: 0.8523\n",
      "Epoch 54/100\n",
      "536/536 [==============================] - 5s 10ms/step - loss: 0.3029 - accuracy: 0.8712 - val_loss: 0.3675 - val_accuracy: 0.8535\n",
      "Epoch 55/100\n",
      "536/536 [==============================] - 6s 11ms/step - loss: 0.3024 - accuracy: 0.8746 - val_loss: 0.3689 - val_accuracy: 0.8493\n",
      "Epoch 56/100\n",
      "536/536 [==============================] - 5s 10ms/step - loss: 0.3026 - accuracy: 0.8729 - val_loss: 0.3724 - val_accuracy: 0.8466\n",
      "Epoch 57/100\n",
      "536/536 [==============================] - 6s 12ms/step - loss: 0.3012 - accuracy: 0.8746 - val_loss: 0.3677 - val_accuracy: 0.8493\n"
     ]
    },
    {
     "name": "stdout",
     "output_type": "stream",
     "text": [
      "Epoch 58/100\n",
      "536/536 [==============================] - 5s 10ms/step - loss: 0.3023 - accuracy: 0.8718 - val_loss: 0.3693 - val_accuracy: 0.8493\n",
      "Epoch 59/100\n",
      "536/536 [==============================] - 5s 9ms/step - loss: 0.3012 - accuracy: 0.8718 - val_loss: 0.3730 - val_accuracy: 0.8440\n",
      "Epoch 60/100\n",
      "536/536 [==============================] - 5s 9ms/step - loss: 0.3018 - accuracy: 0.8718 - val_loss: 0.3679 - val_accuracy: 0.8448\n",
      "Epoch 61/100\n",
      "536/536 [==============================] - 5s 10ms/step - loss: 0.3012 - accuracy: 0.8729 - val_loss: 0.3686 - val_accuracy: 0.8455\n",
      "Epoch 62/100\n",
      "536/536 [==============================] - 5s 10ms/step - loss: 0.3012 - accuracy: 0.8731 - val_loss: 0.3684 - val_accuracy: 0.8516\n",
      "Epoch 63/100\n",
      "536/536 [==============================] - 5s 9ms/step - loss: 0.3004 - accuracy: 0.8720 - val_loss: 0.3693 - val_accuracy: 0.8459\n",
      "Epoch 64/100\n",
      "536/536 [==============================] - 5s 9ms/step - loss: 0.2999 - accuracy: 0.8731 - val_loss: 0.3698 - val_accuracy: 0.8482\n",
      "Epoch 65/100\n",
      "536/536 [==============================] - 6s 10ms/step - loss: 0.2990 - accuracy: 0.8737 - val_loss: 0.3693 - val_accuracy: 0.8501\n",
      "Epoch 66/100\n",
      "536/536 [==============================] - 5s 9ms/step - loss: 0.2994 - accuracy: 0.8742 - val_loss: 0.3695 - val_accuracy: 0.8516\n",
      "Epoch 67/100\n",
      "536/536 [==============================] - 5s 9ms/step - loss: 0.2996 - accuracy: 0.8733 - val_loss: 0.3684 - val_accuracy: 0.8489\n",
      "Epoch 68/100\n",
      "536/536 [==============================] - 5s 9ms/step - loss: 0.2981 - accuracy: 0.8740 - val_loss: 0.3684 - val_accuracy: 0.8504\n",
      "Epoch 69/100\n",
      "536/536 [==============================] - 4s 8ms/step - loss: 0.2982 - accuracy: 0.8761 - val_loss: 0.3693 - val_accuracy: 0.8497\n",
      "Epoch 70/100\n",
      "536/536 [==============================] - 5s 9ms/step - loss: 0.2977 - accuracy: 0.8731 - val_loss: 0.3724 - val_accuracy: 0.8478\n",
      "Epoch 71/100\n",
      "536/536 [==============================] - 5s 10ms/step - loss: 0.2989 - accuracy: 0.8727 - val_loss: 0.3738 - val_accuracy: 0.8455\n",
      "Epoch 72/100\n",
      "536/536 [==============================] - 5s 9ms/step - loss: 0.2968 - accuracy: 0.8742 - val_loss: 0.3758 - val_accuracy: 0.8489\n",
      "Epoch 73/100\n",
      "536/536 [==============================] - 5s 10ms/step - loss: 0.2972 - accuracy: 0.8733 - val_loss: 0.3741 - val_accuracy: 0.8501\n",
      "Epoch 74/100\n",
      "536/536 [==============================] - 7s 12ms/step - loss: 0.2963 - accuracy: 0.8742 - val_loss: 0.3725 - val_accuracy: 0.8440\n",
      "Epoch 75/100\n",
      "536/536 [==============================] - 5s 9ms/step - loss: 0.2970 - accuracy: 0.8739 - val_loss: 0.3732 - val_accuracy: 0.8470\n",
      "Epoch 76/100\n",
      "536/536 [==============================] - 10s 18ms/step - loss: 0.2972 - accuracy: 0.8744 - val_loss: 0.3804 - val_accuracy: 0.8387\n",
      "Epoch 77/100\n",
      "536/536 [==============================] - 11s 21ms/step - loss: 0.2966 - accuracy: 0.8742 - val_loss: 0.3722 - val_accuracy: 0.8497\n",
      "Epoch 78/100\n",
      "536/536 [==============================] - 12s 21ms/step - loss: 0.2949 - accuracy: 0.8765 - val_loss: 0.3783 - val_accuracy: 0.8432\n",
      "Epoch 79/100\n",
      "536/536 [==============================] - 11s 21ms/step - loss: 0.2955 - accuracy: 0.8748 - val_loss: 0.3778 - val_accuracy: 0.8421\n",
      "Epoch 80/100\n",
      "536/536 [==============================] - 11s 20ms/step - loss: 0.2956 - accuracy: 0.8740 - val_loss: 0.3744 - val_accuracy: 0.8436\n",
      "Epoch 81/100\n",
      "536/536 [==============================] - 12s 23ms/step - loss: 0.2949 - accuracy: 0.8759 - val_loss: 0.3767 - val_accuracy: 0.8436\n",
      "Epoch 82/100\n",
      "536/536 [==============================] - 11s 21ms/step - loss: 0.2940 - accuracy: 0.8733 - val_loss: 0.3786 - val_accuracy: 0.8417\n",
      "Epoch 83/100\n",
      "536/536 [==============================] - 10s 18ms/step - loss: 0.2945 - accuracy: 0.8768 - val_loss: 0.3729 - val_accuracy: 0.8470\n",
      "Epoch 84/100\n",
      "536/536 [==============================] - 10s 19ms/step - loss: 0.2945 - accuracy: 0.8746 - val_loss: 0.3775 - val_accuracy: 0.8391\n",
      "Epoch 85/100\n",
      "536/536 [==============================] - 12s 23ms/step - loss: 0.2948 - accuracy: 0.8726 - val_loss: 0.3740 - val_accuracy: 0.8459\n",
      "Epoch 86/100\n",
      "536/536 [==============================] - 11s 21ms/step - loss: 0.2928 - accuracy: 0.8778 - val_loss: 0.3804 - val_accuracy: 0.8497\n",
      "Epoch 87/100\n",
      "536/536 [==============================] - 12s 22ms/step - loss: 0.2943 - accuracy: 0.8742 - val_loss: 0.3758 - val_accuracy: 0.8470\n",
      "Epoch 88/100\n",
      "536/536 [==============================] - 12s 22ms/step - loss: 0.2932 - accuracy: 0.8776 - val_loss: 0.3758 - val_accuracy: 0.8504\n",
      "Epoch 89/100\n",
      "536/536 [==============================] - 12s 22ms/step - loss: 0.2927 - accuracy: 0.8750 - val_loss: 0.3795 - val_accuracy: 0.8482\n",
      "Epoch 90/100\n",
      "536/536 [==============================] - 11s 21ms/step - loss: 0.2931 - accuracy: 0.8731 - val_loss: 0.3757 - val_accuracy: 0.8429\n",
      "Epoch 91/100\n",
      "536/536 [==============================] - 11s 21ms/step - loss: 0.2922 - accuracy: 0.8740 - val_loss: 0.3780 - val_accuracy: 0.8425\n",
      "Epoch 92/100\n",
      "536/536 [==============================] - 10s 18ms/step - loss: 0.2939 - accuracy: 0.8757 - val_loss: 0.3759 - val_accuracy: 0.8485\n",
      "Epoch 93/100\n",
      "536/536 [==============================] - 11s 20ms/step - loss: 0.2915 - accuracy: 0.8787 - val_loss: 0.3750 - val_accuracy: 0.8497\n",
      "Epoch 94/100\n",
      "536/536 [==============================] - 11s 20ms/step - loss: 0.2920 - accuracy: 0.8759 - val_loss: 0.3787 - val_accuracy: 0.8410\n",
      "Epoch 95/100\n",
      "536/536 [==============================] - 10s 19ms/step - loss: 0.2917 - accuracy: 0.8759 - val_loss: 0.3837 - val_accuracy: 0.8364\n",
      "Epoch 96/100\n",
      "536/536 [==============================] - 12s 22ms/step - loss: 0.2909 - accuracy: 0.8759 - val_loss: 0.3772 - val_accuracy: 0.8432\n",
      "Epoch 97/100\n",
      "536/536 [==============================] - 12s 23ms/step - loss: 0.2911 - accuracy: 0.8780 - val_loss: 0.3833 - val_accuracy: 0.8482\n",
      "Epoch 98/100\n",
      "536/536 [==============================] - 12s 23ms/step - loss: 0.2919 - accuracy: 0.8752 - val_loss: 0.3776 - val_accuracy: 0.8504\n",
      "Epoch 99/100\n",
      "536/536 [==============================] - 11s 21ms/step - loss: 0.2913 - accuracy: 0.8770 - val_loss: 0.3761 - val_accuracy: 0.8474\n",
      "Epoch 100/100\n",
      "536/536 [==============================] - 11s 20ms/step - loss: 0.2905 - accuracy: 0.8765 - val_loss: 0.3788 - val_accuracy: 0.8504\n"
     ]
    }
   ],
   "source": [
    "new_model_history = new_classifier.fit(X_train, y_train, validation_split=0.33, batch_size=10, epochs=100)"
   ]
  },
  {
   "cell_type": "code",
   "execution_count": 52,
   "metadata": {},
   "outputs": [],
   "source": [
    "new_y_pred = new_classifier.predict(X_test)\n",
    "new_y_pred = (new_y_pred > 0.5)"
   ]
  },
  {
   "cell_type": "code",
   "execution_count": 54,
   "metadata": {},
   "outputs": [
    {
     "data": {
      "text/plain": [
       "array([[1509,   86],\n",
       "       [ 203,  202]])"
      ]
     },
     "execution_count": 54,
     "metadata": {},
     "output_type": "execute_result"
    }
   ],
   "source": [
    "# Confusion matrix\n",
    "cm_new = confusion_matrix(y_test, y_pred)\n",
    "cm_new"
   ]
  },
  {
   "cell_type": "code",
   "execution_count": 55,
   "metadata": {},
   "outputs": [
    {
     "data": {
      "text/plain": [
       "Text(15.0, 0.5, 'Truth')"
      ]
     },
     "execution_count": 55,
     "metadata": {},
     "output_type": "execute_result"
    },
    {
     "data": {
      "image/png": "[encoded data removed]",
      "text/plain": [
       "<Figure size 288x288 with 2 Axes>"
      ]
     },
     "metadata": {
      "needs_background": "light"
     },
     "output_type": "display_data"
    }
   ],
   "source": [
    "plt.figure(figsize=(4,4))\n",
    "sb.heatmap(cm, annot=True)\n",
    "plt.xlabel('predicted')\n",
    "plt.ylabel('Truth')"
   ]
  },
  {
   "cell_type": "code",
   "execution_count": 57,
   "metadata": {},
   "outputs": [
    {
     "data": {
      "text/plain": [
       "0.854"
      ]
     },
     "execution_count": 57,
     "metadata": {},
     "output_type": "execute_result"
    }
   ],
   "source": [
    "new_score = accuracy_score(new_y_pred, y_test)\n",
    "new_score"
   ]
  },
  {
   "cell_type": "markdown",
   "metadata": {},
   "source": [
    "#### Using Dropout"
   ]
  },
  {
   "cell_type": "code",
   "execution_count": 60,
   "metadata": {
    "scrolled": true
   },
   "outputs": [
    {
     "name": "stdout",
     "output_type": "stream",
     "text": [
      "------ Drop Classifier ------\n",
      "<tensorflow.python.keras.engine.sequential.Sequential object at 0x7f894cb2ac70>\n",
      "Epoch 1/100\n",
      "536/536 [==============================] - 6s 11ms/step - loss: 0.6238 - accuracy: 0.7371 - val_loss: 0.5003 - val_accuracy: 0.7955\n",
      "Epoch 2/100\n",
      "536/536 [==============================] - 4s 8ms/step - loss: 0.5262 - accuracy: 0.7822 - val_loss: 0.4806 - val_accuracy: 0.7955\n",
      "Epoch 3/100\n",
      "536/536 [==============================] - 6s 11ms/step - loss: 0.5026 - accuracy: 0.7927 - val_loss: 0.4718 - val_accuracy: 0.7955\n",
      "Epoch 4/100\n",
      "536/536 [==============================] - 4s 7ms/step - loss: 0.4923 - accuracy: 0.7925 - val_loss: 0.4611 - val_accuracy: 0.7955\n",
      "Epoch 5/100\n",
      "536/536 [==============================] - 6s 11ms/step - loss: 0.4689 - accuracy: 0.7977 - val_loss: 0.4497 - val_accuracy: 0.7955\n",
      "Epoch 6/100\n",
      "536/536 [==============================] - 5s 9ms/step - loss: 0.4697 - accuracy: 0.7964 - val_loss: 0.4432 - val_accuracy: 0.7959\n",
      "Epoch 7/100\n",
      "536/536 [==============================] - 6s 11ms/step - loss: 0.4617 - accuracy: 0.7977 - val_loss: 0.4398 - val_accuracy: 0.7959\n",
      "Epoch 8/100\n",
      "536/536 [==============================] - 10s 18ms/step - loss: 0.4571 - accuracy: 0.7964 - val_loss: 0.4400 - val_accuracy: 0.7955\n",
      "Epoch 9/100\n",
      "536/536 [==============================] - 13s 25ms/step - loss: 0.4486 - accuracy: 0.8015 - val_loss: 0.4331 - val_accuracy: 0.8069\n",
      "Epoch 10/100\n",
      "536/536 [==============================] - 11s 20ms/step - loss: 0.4477 - accuracy: 0.8031 - val_loss: 0.4325 - val_accuracy: 0.8080\n",
      "Epoch 11/100\n",
      "536/536 [==============================] - 7s 13ms/step - loss: 0.4382 - accuracy: 0.8065 - val_loss: 0.4370 - val_accuracy: 0.7986\n",
      "Epoch 12/100\n",
      "536/536 [==============================] - 5s 9ms/step - loss: 0.4392 - accuracy: 0.8106 - val_loss: 0.4277 - val_accuracy: 0.8145\n",
      "Epoch 13/100\n",
      "536/536 [==============================] - 6s 11ms/step - loss: 0.4359 - accuracy: 0.8182 - val_loss: 0.4218 - val_accuracy: 0.8160\n",
      "Epoch 14/100\n",
      "536/536 [==============================] - 5s 10ms/step - loss: 0.4288 - accuracy: 0.8162 - val_loss: 0.4168 - val_accuracy: 0.8186\n",
      "Epoch 15/100\n",
      "536/536 [==============================] - 5s 9ms/step - loss: 0.4263 - accuracy: 0.8169 - val_loss: 0.4140 - val_accuracy: 0.8190\n",
      "Epoch 16/100\n",
      "536/536 [==============================] - 5s 10ms/step - loss: 0.4203 - accuracy: 0.8188 - val_loss: 0.4111 - val_accuracy: 0.8262\n",
      "Epoch 17/100\n",
      "536/536 [==============================] - 5s 10ms/step - loss: 0.4221 - accuracy: 0.8205 - val_loss: 0.4102 - val_accuracy: 0.8167\n",
      "Epoch 18/100\n",
      "536/536 [==============================] - 5s 9ms/step - loss: 0.4120 - accuracy: 0.8266 - val_loss: 0.4035 - val_accuracy: 0.8266\n",
      "Epoch 19/100\n",
      "536/536 [==============================] - 5s 9ms/step - loss: 0.4148 - accuracy: 0.8268 - val_loss: 0.4055 - val_accuracy: 0.8304\n",
      "Epoch 20/100\n",
      "536/536 [==============================] - 6s 11ms/step - loss: 0.4024 - accuracy: 0.8265 - val_loss: 0.3948 - val_accuracy: 0.8353\n",
      "Epoch 21/100\n",
      "536/536 [==============================] - 5s 9ms/step - loss: 0.3950 - accuracy: 0.8332 - val_loss: 0.3919 - val_accuracy: 0.8334\n",
      "Epoch 22/100\n",
      "536/536 [==============================] - 5s 9ms/step - loss: 0.4036 - accuracy: 0.8315 - val_loss: 0.3881 - val_accuracy: 0.8357\n",
      "Epoch 23/100\n",
      "536/536 [==============================] - 6s 11ms/step - loss: 0.4009 - accuracy: 0.8330 - val_loss: 0.3898 - val_accuracy: 0.8383\n",
      "Epoch 24/100\n",
      "536/536 [==============================] - 5s 10ms/step - loss: 0.4044 - accuracy: 0.8280 - val_loss: 0.3896 - val_accuracy: 0.8372\n",
      "Epoch 25/100\n",
      "536/536 [==============================] - 6s 11ms/step - loss: 0.3944 - accuracy: 0.8336 - val_loss: 0.3877 - val_accuracy: 0.8406\n",
      "Epoch 26/100\n",
      "536/536 [==============================] - 5s 10ms/step - loss: 0.3940 - accuracy: 0.8330 - val_loss: 0.3802 - val_accuracy: 0.8402\n",
      "Epoch 27/100\n",
      "536/536 [==============================] - 6s 11ms/step - loss: 0.3906 - accuracy: 0.8300 - val_loss: 0.3830 - val_accuracy: 0.8395\n",
      "Epoch 28/100\n",
      "536/536 [==============================] - 6s 10ms/step - loss: 0.3913 - accuracy: 0.8349 - val_loss: 0.3793 - val_accuracy: 0.8387\n",
      "Epoch 29/100\n",
      "536/536 [==============================] - 6s 11ms/step - loss: 0.3921 - accuracy: 0.8280 - val_loss: 0.3804 - val_accuracy: 0.8383\n",
      "Epoch 30/100\n",
      "536/536 [==============================] - 6s 11ms/step - loss: 0.3934 - accuracy: 0.8345 - val_loss: 0.3767 - val_accuracy: 0.8402\n",
      "Epoch 31/100\n",
      "536/536 [==============================] - 6s 11ms/step - loss: 0.3934 - accuracy: 0.8298 - val_loss: 0.3757 - val_accuracy: 0.8410\n",
      "Epoch 32/100\n",
      "536/536 [==============================] - 6s 11ms/step - loss: 0.3909 - accuracy: 0.8345 - val_loss: 0.3772 - val_accuracy: 0.8364\n",
      "Epoch 33/100\n",
      "536/536 [==============================] - 5s 10ms/step - loss: 0.3830 - accuracy: 0.8390 - val_loss: 0.3750 - val_accuracy: 0.8444\n",
      "Epoch 34/100\n",
      "536/536 [==============================] - 5s 10ms/step - loss: 0.3966 - accuracy: 0.8278 - val_loss: 0.3790 - val_accuracy: 0.8379\n",
      "Epoch 35/100\n",
      "536/536 [==============================] - 5s 10ms/step - loss: 0.3863 - accuracy: 0.8406 - val_loss: 0.3739 - val_accuracy: 0.8432\n",
      "Epoch 36/100\n",
      "536/536 [==============================] - 6s 11ms/step - loss: 0.3862 - accuracy: 0.8406 - val_loss: 0.3783 - val_accuracy: 0.8402\n",
      "Epoch 37/100\n",
      "536/536 [==============================] - 6s 11ms/step - loss: 0.3842 - accuracy: 0.8362 - val_loss: 0.3726 - val_accuracy: 0.8451\n",
      "Epoch 38/100\n",
      "536/536 [==============================] - 6s 10ms/step - loss: 0.3839 - accuracy: 0.8362 - val_loss: 0.3699 - val_accuracy: 0.8451\n",
      "Epoch 39/100\n",
      "536/536 [==============================] - 5s 10ms/step - loss: 0.3830 - accuracy: 0.8345 - val_loss: 0.3723 - val_accuracy: 0.8455\n",
      "Epoch 40/100\n",
      "536/536 [==============================] - 6s 11ms/step - loss: 0.3867 - accuracy: 0.8336 - val_loss: 0.3726 - val_accuracy: 0.8421\n",
      "Epoch 41/100\n",
      "536/536 [==============================] - 7s 12ms/step - loss: 0.3838 - accuracy: 0.8401 - val_loss: 0.3732 - val_accuracy: 0.8429\n",
      "Epoch 42/100\n",
      "536/536 [==============================] - 6s 11ms/step - loss: 0.3819 - accuracy: 0.8399 - val_loss: 0.3752 - val_accuracy: 0.8425\n",
      "Epoch 43/100\n",
      "536/536 [==============================] - 7s 12ms/step - loss: 0.3861 - accuracy: 0.8358 - val_loss: 0.3734 - val_accuracy: 0.8406\n",
      "Epoch 44/100\n",
      "536/536 [==============================] - 8s 14ms/step - loss: 0.3859 - accuracy: 0.8403 - val_loss: 0.3735 - val_accuracy: 0.8425\n",
      "Epoch 45/100\n",
      "536/536 [==============================] - 8s 14ms/step - loss: 0.3757 - accuracy: 0.8414 - val_loss: 0.3718 - val_accuracy: 0.8398\n",
      "Epoch 46/100\n",
      "536/536 [==============================] - 6s 12ms/step - loss: 0.3831 - accuracy: 0.8354 - val_loss: 0.3726 - val_accuracy: 0.8391\n",
      "Epoch 47/100\n",
      "536/536 [==============================] - 8s 14ms/step - loss: 0.3802 - accuracy: 0.8380 - val_loss: 0.3697 - val_accuracy: 0.8432\n",
      "Epoch 48/100\n",
      "536/536 [==============================] - 7s 13ms/step - loss: 0.3748 - accuracy: 0.8421 - val_loss: 0.3714 - val_accuracy: 0.8402\n",
      "Epoch 49/100\n",
      "536/536 [==============================] - 8s 15ms/step - loss: 0.3872 - accuracy: 0.8358 - val_loss: 0.3717 - val_accuracy: 0.8436\n",
      "Epoch 50/100\n",
      "536/536 [==============================] - 8s 14ms/step - loss: 0.3820 - accuracy: 0.8461 - val_loss: 0.3702 - val_accuracy: 0.8448\n",
      "Epoch 51/100\n",
      "536/536 [==============================] - 8s 14ms/step - loss: 0.3779 - accuracy: 0.8416 - val_loss: 0.3726 - val_accuracy: 0.8413\n",
      "Epoch 52/100\n",
      "536/536 [==============================] - 8s 15ms/step - loss: 0.3815 - accuracy: 0.8399 - val_loss: 0.3725 - val_accuracy: 0.8429\n",
      "Epoch 53/100\n",
      "536/536 [==============================] - 7s 13ms/step - loss: 0.3824 - accuracy: 0.8358 - val_loss: 0.3747 - val_accuracy: 0.8410\n",
      "Epoch 54/100\n",
      "536/536 [==============================] - 7s 12ms/step - loss: 0.3828 - accuracy: 0.8373 - val_loss: 0.3730 - val_accuracy: 0.8421\n",
      "Epoch 55/100\n",
      "536/536 [==============================] - 8s 14ms/step - loss: 0.3825 - accuracy: 0.8401 - val_loss: 0.3728 - val_accuracy: 0.8421\n",
      "Epoch 56/100\n",
      "536/536 [==============================] - 7s 13ms/step - loss: 0.3759 - accuracy: 0.8419 - val_loss: 0.3723 - val_accuracy: 0.8402\n"
     ]
    },
    {
     "name": "stdout",
     "output_type": "stream",
     "text": [
      "Epoch 57/100\n",
      "536/536 [==============================] - 5s 9ms/step - loss: 0.3750 - accuracy: 0.8429 - val_loss: 0.3729 - val_accuracy: 0.8421\n",
      "Epoch 58/100\n",
      "536/536 [==============================] - 5s 9ms/step - loss: 0.3765 - accuracy: 0.8416 - val_loss: 0.3711 - val_accuracy: 0.8413\n",
      "Epoch 59/100\n",
      "536/536 [==============================] - 4s 8ms/step - loss: 0.3837 - accuracy: 0.8390 - val_loss: 0.3681 - val_accuracy: 0.8440\n",
      "Epoch 60/100\n",
      "536/536 [==============================] - 5s 9ms/step - loss: 0.3748 - accuracy: 0.8393 - val_loss: 0.3694 - val_accuracy: 0.8429\n",
      "Epoch 61/100\n",
      "536/536 [==============================] - 5s 9ms/step - loss: 0.3761 - accuracy: 0.8418 - val_loss: 0.3694 - val_accuracy: 0.8440\n",
      "Epoch 62/100\n",
      "536/536 [==============================] - 5s 9ms/step - loss: 0.3766 - accuracy: 0.8405 - val_loss: 0.3681 - val_accuracy: 0.8474\n",
      "Epoch 63/100\n",
      "536/536 [==============================] - 5s 10ms/step - loss: 0.3811 - accuracy: 0.8408 - val_loss: 0.3736 - val_accuracy: 0.8398\n",
      "Epoch 64/100\n",
      "536/536 [==============================] - 4s 8ms/step - loss: 0.3767 - accuracy: 0.8434 - val_loss: 0.3742 - val_accuracy: 0.8413\n",
      "Epoch 65/100\n",
      "536/536 [==============================] - 5s 9ms/step - loss: 0.3727 - accuracy: 0.8414 - val_loss: 0.3712 - val_accuracy: 0.8413\n",
      "Epoch 66/100\n",
      "536/536 [==============================] - 5s 9ms/step - loss: 0.3806 - accuracy: 0.8391 - val_loss: 0.3715 - val_accuracy: 0.8398\n",
      "Epoch 67/100\n",
      "536/536 [==============================] - 4s 8ms/step - loss: 0.3774 - accuracy: 0.8449 - val_loss: 0.3713 - val_accuracy: 0.8417\n",
      "Epoch 68/100\n",
      "536/536 [==============================] - 5s 9ms/step - loss: 0.3720 - accuracy: 0.8440 - val_loss: 0.3694 - val_accuracy: 0.8432\n",
      "Epoch 69/100\n",
      "536/536 [==============================] - 5s 9ms/step - loss: 0.3830 - accuracy: 0.8427 - val_loss: 0.3746 - val_accuracy: 0.8379\n",
      "Epoch 70/100\n",
      "536/536 [==============================] - 7s 12ms/step - loss: 0.3721 - accuracy: 0.8414 - val_loss: 0.3694 - val_accuracy: 0.8463\n",
      "Epoch 71/100\n",
      "536/536 [==============================] - 14s 26ms/step - loss: 0.3732 - accuracy: 0.8440 - val_loss: 0.3701 - val_accuracy: 0.8421\n",
      "Epoch 72/100\n",
      "536/536 [==============================] - 13s 25ms/step - loss: 0.3770 - accuracy: 0.8408 - val_loss: 0.3681 - val_accuracy: 0.8451\n",
      "Epoch 73/100\n",
      "536/536 [==============================] - 12s 22ms/step - loss: 0.3743 - accuracy: 0.8440 - val_loss: 0.3715 - val_accuracy: 0.8395\n",
      "Epoch 74/100\n",
      "536/536 [==============================] - 11s 20ms/step - loss: 0.3749 - accuracy: 0.8447 - val_loss: 0.3723 - val_accuracy: 0.8448\n",
      "Epoch 75/100\n",
      "536/536 [==============================] - 12s 22ms/step - loss: 0.3795 - accuracy: 0.8412 - val_loss: 0.3686 - val_accuracy: 0.8448\n",
      "Epoch 76/100\n",
      "536/536 [==============================] - 11s 21ms/step - loss: 0.3725 - accuracy: 0.8457 - val_loss: 0.3700 - val_accuracy: 0.8444\n",
      "Epoch 77/100\n",
      "536/536 [==============================] - 10s 19ms/step - loss: 0.3712 - accuracy: 0.8474 - val_loss: 0.3654 - val_accuracy: 0.8485\n",
      "Epoch 78/100\n",
      "536/536 [==============================] - 9s 17ms/step - loss: 0.3774 - accuracy: 0.8475 - val_loss: 0.3677 - val_accuracy: 0.8466\n",
      "Epoch 79/100\n",
      "536/536 [==============================] - 10s 19ms/step - loss: 0.3765 - accuracy: 0.8487 - val_loss: 0.3681 - val_accuracy: 0.8463\n",
      "Epoch 80/100\n",
      "536/536 [==============================] - 11s 20ms/step - loss: 0.3714 - accuracy: 0.8485 - val_loss: 0.3712 - val_accuracy: 0.8451\n",
      "Epoch 81/100\n",
      "536/536 [==============================] - 9s 17ms/step - loss: 0.3714 - accuracy: 0.8419 - val_loss: 0.3678 - val_accuracy: 0.8451\n",
      "Epoch 82/100\n",
      "536/536 [==============================] - 10s 19ms/step - loss: 0.3728 - accuracy: 0.8436 - val_loss: 0.3706 - val_accuracy: 0.8455\n",
      "Epoch 83/100\n",
      "536/536 [==============================] - 9s 17ms/step - loss: 0.3701 - accuracy: 0.8464 - val_loss: 0.3675 - val_accuracy: 0.8474\n",
      "Epoch 84/100\n",
      "536/536 [==============================] - 11s 20ms/step - loss: 0.3765 - accuracy: 0.8391 - val_loss: 0.3749 - val_accuracy: 0.8395\n",
      "Epoch 85/100\n",
      "536/536 [==============================] - 12s 22ms/step - loss: 0.3747 - accuracy: 0.8433 - val_loss: 0.3711 - val_accuracy: 0.8448\n",
      "Epoch 86/100\n",
      "536/536 [==============================] - 10s 19ms/step - loss: 0.3683 - accuracy: 0.8434 - val_loss: 0.3699 - val_accuracy: 0.8421\n",
      "Epoch 87/100\n",
      "536/536 [==============================] - 7s 13ms/step - loss: 0.3720 - accuracy: 0.8457 - val_loss: 0.3737 - val_accuracy: 0.8413\n",
      "Epoch 88/100\n",
      "536/536 [==============================] - 10s 18ms/step - loss: 0.3737 - accuracy: 0.8434 - val_loss: 0.3692 - val_accuracy: 0.8459\n",
      "Epoch 89/100\n",
      "536/536 [==============================] - 7s 13ms/step - loss: 0.3735 - accuracy: 0.8429 - val_loss: 0.3665 - val_accuracy: 0.8444\n",
      "Epoch 90/100\n",
      "536/536 [==============================] - 6s 11ms/step - loss: 0.3673 - accuracy: 0.8472 - val_loss: 0.3707 - val_accuracy: 0.8413\n",
      "Epoch 91/100\n",
      "536/536 [==============================] - 3s 6ms/step - loss: 0.3790 - accuracy: 0.8403 - val_loss: 0.3705 - val_accuracy: 0.8410\n",
      "Epoch 92/100\n",
      "536/536 [==============================] - 3s 7ms/step - loss: 0.3766 - accuracy: 0.8449 - val_loss: 0.3684 - val_accuracy: 0.8463\n",
      "Epoch 93/100\n",
      "536/536 [==============================] - 3s 5ms/step - loss: 0.3713 - accuracy: 0.8466 - val_loss: 0.3660 - val_accuracy: 0.8470\n",
      "Epoch 94/100\n",
      "536/536 [==============================] - 3s 5ms/step - loss: 0.3742 - accuracy: 0.8455 - val_loss: 0.3680 - val_accuracy: 0.8429\n",
      "Epoch 95/100\n",
      "536/536 [==============================] - 3s 5ms/step - loss: 0.3742 - accuracy: 0.8457 - val_loss: 0.3689 - val_accuracy: 0.8432\n",
      "Epoch 96/100\n",
      "536/536 [==============================] - 3s 6ms/step - loss: 0.3729 - accuracy: 0.8483 - val_loss: 0.3678 - val_accuracy: 0.8413\n",
      "Epoch 97/100\n",
      "536/536 [==============================] - 4s 8ms/step - loss: 0.3741 - accuracy: 0.8474 - val_loss: 0.3734 - val_accuracy: 0.8398\n",
      "Epoch 98/100\n",
      "536/536 [==============================] - 4s 8ms/step - loss: 0.3787 - accuracy: 0.8412 - val_loss: 0.3701 - val_accuracy: 0.8391\n",
      "Epoch 99/100\n",
      "536/536 [==============================] - 4s 8ms/step - loss: 0.3739 - accuracy: 0.8412 - val_loss: 0.3656 - val_accuracy: 0.8436\n",
      "Epoch 100/100\n",
      "536/536 [==============================] - 4s 8ms/step - loss: 0.3699 - accuracy: 0.8431 - val_loss: 0.3655 - val_accuracy: 0.8432\n",
      "------ Confusion Matrix ------\n",
      "[[1509   86]\n",
      " [ 203  202]]\n",
      "------ DropScore ------\n",
      "0.854\n"
     ]
    },
    {
     "data": {
      "image/png": "[encoded data removed]",
      "text/plain": [
       "<Figure size 288x288 with 2 Axes>"
      ]
     },
     "metadata": {
      "needs_background": "light"
     },
     "output_type": "display_data"
    }
   ],
   "source": [
    "drop_classifier = Sequential()\n",
    "\n",
    "# 1st hidden layer\n",
    "drop_classifier.add(Dense(units = 10, kernel_initializer='he_normal', activation='relu', input_dim=11))\n",
    "drop_classifier.add(Dropout(0.3))\n",
    "\n",
    "# 2st hidden layer\n",
    "drop_classifier.add(Dense(units=20, kernel_initializer='he_normal', activation='relu'))\n",
    "drop_classifier.add(Dropout(0.4))\n",
    "\n",
    "# 3st hidden layer\n",
    "drop_classifier.add(Dense(units=15, kernel_initializer='he_normal', activation='relu'))\n",
    "drop_classifier.add(Dropout(0.2))\n",
    "\n",
    "# Adding output layer\n",
    "drop_classifier.add(Dense(units=1, kernel_initializer='glorot_uniform', activation='sigmoid'))\n",
    "print('-'*6 + ' Drop Classifier ' + '-'*6)\n",
    "print(drop_classifier)\n",
    "\n",
    "# Compiling the ANN\n",
    "drop_classifier.compile(optimizer='adam', loss='binary_crossentropy', metrics=['accuracy'])\n",
    "\n",
    "drop_model_history = drop_classifier.fit(X_train, y_train, validation_split=0.33, batch_size=10, epochs=100)\n",
    "\n",
    "drop_y_pred = new_classifier.predict(X_test)\n",
    "drop_y_pred = (drop_y_pred > 0.5)\n",
    "\n",
    "# Confusion matrix\n",
    "drop_cm = confusion_matrix(y_test, y_pred)\n",
    "print('-'*6 + ' Confusion Matrix ' + '-'*6)\n",
    "print(drop_cm)\n",
    "\n",
    "# Plotting Confusion Matrix\n",
    "plt.figure(figsize=(4,4))\n",
    "sb.heatmap(drop_cm, annot=True)\n",
    "plt.xlabel('predicted')\n",
    "plt.ylabel('Truth')\n",
    "plt.plot()\n",
    "\n",
    "# Calculating accuracy score\n",
    "drop_score = accuracy_score(drop_y_pred, y_test)\n",
    "print('-'*6+ ' DropScore '+ '-'*6)\n",
    "print(drop_score)"
   ]
  },
  {
   "cell_type": "code",
   "execution_count": 63,
   "metadata": {},
   "outputs": [
    {
     "data": {
      "image/png": "[encoded data removed]",
      "text/plain": [
       "<Figure size 432x288 with 1 Axes>"
      ]
     },
     "metadata": {
      "needs_background": "light"
     },
     "output_type": "display_data"
    }
   ],
   "source": [
    "plt.plot(model_history.history['accuracy'])\n",
    "plt.plot(model_history.history['val_accuracy'])\n",
    "plt.title('model accuracy')\n",
    "plt.ylabel('accuracy')\n",
    "plt.xlabel('epoch')\n",
    "plt.legend(['train', 'test'], loc='upper left')\n",
    "plt.show()"
   ]
  },
  {
   "cell_type": "code",
   "execution_count": 66,
   "metadata": {},
   "outputs": [
    {
     "data": {
      "image/png": "[encoded data removed]",
      "text/plain": [
       "<Figure size 432x288 with 1 Axes>"
      ]
     },
     "metadata": {
      "needs_background": "light"
     },
     "output_type": "display_data"
    }
   ],
   "source": [
    "plt.plot(new_model_history.history['accuracy'])\n",
    "plt.plot(new_model_history.history['val_accuracy'])\n",
    "plt.title('model accuracy')\n",
    "plt.ylabel('accuracy')\n",
    "plt.xlabel('epoch')\n",
    "plt.legend(['train', 'test'], loc='upper left')\n",
    "plt.show()"
   ]
  },
  {
   "cell_type": "code",
   "execution_count": 65,
   "metadata": {},
   "outputs": [
    {
     "data": {
      "image/png": "[encoded data removed]",
      "text/plain": [
       "<Figure size 432x288 with 1 Axes>"
      ]
     },
     "metadata": {
      "needs_background": "light"
     },
     "output_type": "display_data"
    }
   ],
   "source": [
    "plt.plot(drop_model_history.history['accuracy'])\n",
    "plt.plot(drop_model_history.history['val_accuracy'])\n",
    "plt.title('model accuracy')\n",
    "plt.ylabel('accuracy')\n",
    "plt.xlabel('epoch')\n",
    "plt.legend(['train', 'test'], loc='upper left')\n",
    "plt.show()"
   ]
  },
  {
   "cell_type": "code",
   "execution_count": null,
   "metadata": {},
   "outputs": [],
   "source": []
  }
 ],
 "metadata": {
  "kernelspec": {
   "display_name": "Python 3",
   "language": "python",
   "name": "python3"
  },
  "language_info": {
   "codemirror_mode": {
    "name": "ipython",
    "version": 3
   },
   "file_extension": ".py",
   "mimetype": "text/x-python",
   "name": "python",
   "nbconvert_exporter": "python",
   "pygments_lexer": "ipython3",
   "version": "3.8.3"
  }
 },
 "nbformat": 4,
 "nbformat_minor": 4
}
