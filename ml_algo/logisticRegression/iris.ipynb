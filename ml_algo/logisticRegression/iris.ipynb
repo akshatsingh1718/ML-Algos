{
 "cells": [
  {
   "cell_type": "code",
   "execution_count": 2,
   "metadata": {},
   "outputs": [],
   "source": [
    "import pandas as pd\n",
    "import matplotlib.pyplot as plt\n",
    "%matplotlib inline\n",
    "from sklearn.datasets import load_iris"
   ]
  },
  {
   "cell_type": "code",
   "execution_count": 6,
   "metadata": {},
   "outputs": [
    {
     "data": {
      "text/plain": [
       "dict_keys(['data', 'target', 'frame', 'target_names', 'DESCR', 'feature_names', 'filename'])"
      ]
     },
     "execution_count": 6,
     "metadata": {},
     "output_type": "execute_result"
    }
   ],
   "source": [
    "iris = load_iris()\n",
    "iris.keys()"
   ]
  },
  {
   "cell_type": "code",
   "execution_count": 8,
   "metadata": {},
   "outputs": [
    {
     "data": {
      "text/plain": [
       "['sepal length (cm)',\n",
       " 'sepal width (cm)',\n",
       " 'petal length (cm)',\n",
       " 'petal width (cm)']"
      ]
     },
     "execution_count": 8,
     "metadata": {},
     "output_type": "execute_result"
    }
   ],
   "source": [
    "iris.feature_names"
   ]
  },
  {
   "cell_type": "code",
   "execution_count": 14,
   "metadata": {},
   "outputs": [],
   "source": [
    "from sklearn.linear_model import LogisticRegression\n",
    "model = LogisticRegression()"
   ]
  },
  {
   "cell_type": "code",
   "execution_count": 16,
   "metadata": {},
   "outputs": [],
   "source": [
    "from sklearn.model_selection import train_test_split\n",
    "x_train, x_test, y_train, y_test = train_test_split(iris.data, iris.target, test_size=0.3)"
   ]
  },
  {
   "cell_type": "code",
   "execution_count": 17,
   "metadata": {},
   "outputs": [
    {
     "data": {
      "text/plain": [
       "LogisticRegression()"
      ]
     },
     "execution_count": 17,
     "metadata": {},
     "output_type": "execute_result"
    }
   ],
   "source": [
    "model.fit(x_train, y_train)"
   ]
  },
  {
   "cell_type": "code",
   "execution_count": 20,
   "metadata": {},
   "outputs": [],
   "source": [
    "y_predict = model.predict(x_test)"
   ]
  },
  {
   "cell_type": "code",
   "execution_count": 18,
   "metadata": {},
   "outputs": [
    {
     "data": {
      "text/plain": [
       "0.9555555555555556"
      ]
     },
     "execution_count": 18,
     "metadata": {},
     "output_type": "execute_result"
    }
   ],
   "source": [
    "model.score(x_test, y_test)"
   ]
  },
  {
   "cell_type": "code",
   "execution_count": 23,
   "metadata": {},
   "outputs": [
    {
     "data": {
      "text/plain": [
       "array([[9.82760943e-01, 1.72390092e-02, 4.75438577e-08],\n",
       "       [7.21051084e-04, 5.21618615e-01, 4.77660334e-01],\n",
       "       [9.67168284e-01, 3.28314659e-02, 2.49794181e-07],\n",
       "       [8.18112097e-05, 5.11084440e-02, 9.48809745e-01],\n",
       "       [2.83748631e-03, 7.90794113e-01, 2.06368401e-01],\n",
       "       [9.63201933e-01, 3.67976942e-02, 3.72476307e-07],\n",
       "       [1.20155424e-04, 2.85595020e-01, 7.14284825e-01],\n",
       "       [2.69638266e-03, 4.23946731e-01, 5.73356886e-01],\n",
       "       [3.47538735e-06, 6.53689973e-02, 9.34627527e-01],\n",
       "       [3.43632356e-04, 2.72777405e-01, 7.26878963e-01],\n",
       "       [9.64886155e-01, 3.51134934e-02, 3.51575144e-07],\n",
       "       [9.58757479e-01, 4.12421448e-02, 3.75901600e-07],\n",
       "       [9.35751924e-01, 6.42461524e-02, 1.92361407e-06],\n",
       "       [9.64994211e-01, 3.50042536e-02, 1.53587979e-06],\n",
       "       [2.64757758e-03, 7.88390109e-01, 2.08962313e-01],\n",
       "       [9.12299442e-06, 1.97576609e-02, 9.80233216e-01],\n",
       "       [9.77453781e-01, 2.25459556e-02, 2.63144328e-07],\n",
       "       [2.10230793e-08, 3.94326147e-03, 9.96056718e-01],\n",
       "       [3.51106952e-03, 7.63669563e-01, 2.32819367e-01],\n",
       "       [3.74834750e-05, 2.40128247e-01, 7.59834270e-01],\n",
       "       [9.84933350e-01, 1.50664901e-02, 1.59936494e-07],\n",
       "       [9.41258605e-01, 5.87406342e-02, 7.60663830e-07],\n",
       "       [2.01330627e-06, 1.21332649e-02, 9.87864722e-01],\n",
       "       [4.36063689e-05, 9.49544594e-02, 9.05001934e-01],\n",
       "       [1.30888037e-05, 1.03766102e-01, 8.96220809e-01],\n",
       "       [2.64240176e-06, 7.84723093e-03, 9.92150127e-01],\n",
       "       [6.71843850e-04, 2.62933926e-01, 7.36394230e-01],\n",
       "       [2.21962951e-04, 1.86709153e-01, 8.13068884e-01],\n",
       "       [9.59611679e-05, 9.52132378e-02, 9.04690801e-01],\n",
       "       [6.19795479e-03, 7.75797114e-01, 2.18004932e-01],\n",
       "       [9.71949233e-01, 2.80504505e-02, 3.16438652e-07],\n",
       "       [5.63308045e-06, 2.39224171e-02, 9.76071950e-01],\n",
       "       [4.48375327e-02, 8.71954996e-01, 8.32074714e-02],\n",
       "       [7.95448141e-03, 9.22605559e-01, 6.94399599e-02],\n",
       "       [9.54807952e-01, 4.51913649e-02, 6.82931930e-07],\n",
       "       [2.09015809e-02, 9.08494908e-01, 7.06035109e-02],\n",
       "       [9.69956817e-01, 3.00429395e-02, 2.43951902e-07],\n",
       "       [2.29054836e-03, 7.69329602e-01, 2.28379849e-01],\n",
       "       [1.77585657e-02, 9.08917909e-01, 7.33235250e-02],\n",
       "       [6.51496507e-02, 9.26929792e-01, 7.92055735e-03],\n",
       "       [9.62618748e-03, 8.72321060e-01, 1.18052753e-01],\n",
       "       [9.83366773e-01, 1.66330869e-02, 1.40420761e-07],\n",
       "       [1.24832924e-04, 1.71046176e-01, 8.28828991e-01],\n",
       "       [9.82355191e-01, 1.76447078e-02, 1.01561395e-07],\n",
       "       [5.78371409e-03, 8.96362113e-01, 9.78541728e-02]])"
      ]
     },
     "execution_count": 23,
     "metadata": {},
     "output_type": "execute_result"
    }
   ],
   "source": [
    "model.predict_proba(x_test)"
   ]
  },
  {
   "cell_type": "code",
   "execution_count": 24,
   "metadata": {},
   "outputs": [
    {
     "data": {
      "text/plain": [
       "array([0, 1, 0, 2, 1, 0, 2, 2, 2, 2, 0, 0, 0, 0, 1, 2, 0, 2, 1, 2, 0, 0,\n",
       "       2, 2, 2, 2, 2, 2, 2, 1, 0, 2, 1, 1, 0, 1, 0, 1, 1, 1, 1, 0, 2, 0,\n",
       "       1])"
      ]
     },
     "execution_count": 24,
     "metadata": {},
     "output_type": "execute_result"
    }
   ],
   "source": [
    "y_predict"
   ]
  },
  {
   "cell_type": "code",
   "execution_count": 25,
   "metadata": {},
   "outputs": [
    {
     "data": {
      "text/plain": [
       "array([0, 2, 0, 2, 1, 0, 2, 1, 2, 2, 0, 0, 0, 0, 1, 2, 0, 2, 1, 2, 0, 0,\n",
       "       2, 2, 2, 2, 2, 2, 2, 1, 0, 2, 1, 1, 0, 1, 0, 1, 1, 1, 1, 0, 2, 0,\n",
       "       1])"
      ]
     },
     "execution_count": 25,
     "metadata": {},
     "output_type": "execute_result"
    }
   ],
   "source": [
    "y_test"
   ]
  },
  {
   "cell_type": "code",
   "execution_count": 30,
   "metadata": {},
   "outputs": [
    {
     "data": {
      "text/plain": [
       "array([[15,  0,  0],\n",
       "       [ 0, 12,  1],\n",
       "       [ 0,  1, 16]], dtype=int64)"
      ]
     },
     "execution_count": 30,
     "metadata": {},
     "output_type": "execute_result"
    }
   ],
   "source": [
    "from sklearn.metrics import confusion_matrix\n",
    "cm = confusion_matrix(y_test, y_predict)\n",
    "cm"
   ]
  },
  {
   "cell_type": "code",
   "execution_count": 34,
   "metadata": {},
   "outputs": [
    {
     "data": {
      "text/plain": [
       "Text(15.0, 0.5, 'Truth')"
      ]
     },
     "execution_count": 34,
     "metadata": {},
     "output_type": "execute_result"
    },
    {
     "data": {
      "image/png": "[encoded data removed]",
      "text/plain": [
       "<Figure size 288x288 with 2 Axes>"
      ]
     },
     "metadata": {
      "needs_background": "light"
     },
     "output_type": "display_data"
    }
   ],
   "source": [
    "import seaborn as sn\n",
    "plt.figure(figsize=(4,4))\n",
    "sn.heatmap(cm, annot=True)\n",
    "plt.xlabel(\"predicted\")\n",
    "plt.ylabel(\"Truth\")"
   ]
  },
  {
   "cell_type": "code",
   "execution_count": null,
   "metadata": {},
   "outputs": [],
   "source": []
  }
 ],
 "metadata": {
  "kernelspec": {
   "display_name": "Python 3",
   "language": "python",
   "name": "python3"
  },
  "language_info": {
   "codemirror_mode": {
    "name": "ipython",
    "version": 3
   },
   "file_extension": ".py",
   "mimetype": "text/x-python",
   "name": "python",
   "nbconvert_exporter": "python",
   "pygments_lexer": "ipython3",
   "version": "3.7.6"
  }
 },
 "nbformat": 4,
 "nbformat_minor": 4
}
